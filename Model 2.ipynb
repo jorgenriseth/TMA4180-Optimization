{
 "cells": [
  {
   "cell_type": "code",
   "execution_count": 2,
   "metadata": {
    "collapsed": true
   },
   "outputs": [],
   "source": [
    "import numpy as np\n",
    "import matplotlib as plt"
   ]
  },
  {
   "cell_type": "code",
   "execution_count": 92,
   "metadata": {},
   "outputs": [
    {
     "data": {
      "text/plain": [
       "array([[2, 1],\n",
       "       [1, 4]])"
      ]
     },
     "execution_count": 92,
     "metadata": {},
     "output_type": "execute_result"
    }
   ],
   "source": [
    "# n = 3\n",
    "# A = np.array((1, 2, 3, 2, 4, 5, 3, 5, 6)).reshape(n,n) # n = 3\n",
    "n = 2\n",
    "A = np.array((2, 1, 1, 4,)).reshape(n, n)\n",
    "\n",
    "A"
   ]
  },
  {
   "cell_type": "code",
   "execution_count": 93,
   "metadata": {},
   "outputs": [
    {
     "data": {
      "text/plain": [
       "array([2, 3])"
      ]
     },
     "execution_count": 93,
     "metadata": {},
     "output_type": "execute_result"
    }
   ],
   "source": [
    "b = np.array((2, 3))\n",
    "\n",
    "b"
   ]
  },
  {
   "cell_type": "code",
   "execution_count": 97,
   "metadata": {},
   "outputs": [
    {
     "data": {
      "text/plain": [
       "array([[ 3,  2],\n",
       "       [ 1,  1],\n",
       "       [ 0, -2]])"
      ]
     },
     "execution_count": 97,
     "metadata": {},
     "output_type": "execute_result"
    }
   ],
   "source": [
    "m = 3\n",
    "k = n*(n+1)//2\n",
    "z = np.array((3, 2, 1, 1, 0, -2)).reshape(m, n)\n",
    "\n",
    "z"
   ]
  },
  {
   "cell_type": "code",
   "execution_count": 98,
   "metadata": {},
   "outputs": [
    {
     "data": {
      "text/plain": [
       "array([[ 8, 11],\n",
       "       [ 3,  5],\n",
       "       [-2, -8]])"
      ]
     },
     "execution_count": 98,
     "metadata": {},
     "output_type": "execute_result"
    }
   ],
   "source": [
    "# Residual for single point\n",
    "def r(A, v, zi, wi):\n",
    "    x = zi.T @ A @zi + b.T @ zi\n",
    "    return np.maximum(wi * x, 0)\n",
    "\n",
    "# Residual vector for all points\n",
    "def R(A, b, z, w):\n",
    "    R = np.zeros_like(w)\n",
    "    for i in range(R.size):\n",
    "        R[i] = r(A, b, z[i], w[i])\n",
    "    return R\n",
    "\n",
    "#Objective function\n",
    "def f(R):\n",
    "    return np.sum(R**2)"
   ]
  },
  {
   "cell_type": "code",
   "execution_count": 1,
   "metadata": {
    "collapsed": true
   },
   "outputs": [],
   "source": [
    "# Insert coefficients in (nxn) matrix A, given (m+k) vector x\n",
    "def update_A(A, x):\n",
    "    n = A.shape[0]\n",
    "    a = x[:n*(n+1)//2]\n",
    "    for j in range(n):\n",
    "        start = j*n - j*(j+1)//n\n",
    "        end = start + n-j\n",
    "        A[j, j:] = x[start:end]\n",
    "    return A\n",
    "\n",
    "# Insert coefficients in (n) centering vector given (n+k) vector x\n",
    "def update_c(c, x):\n",
    "    c = x[-n:]\n",
    "    return c\n",
    "\n",
    "# Get the first (k) coefficients of (n+k) vector x, given an (nxn) matrix A\n",
    "def extract_a(A):\n",
    "    n = A.shape[0]\n",
    "    k = n*(n+1)//2\n",
    "    a = np.zeros(k)\n",
    "    end = 0\n",
    "    \n",
    "    for j in range(n):\n",
    "        start = end\n",
    "        end = start + n-j\n",
    "        a[start:end] = A[j, j:]\n",
    "        \n",
    "    return a"
   ]
  },
  {
   "cell_type": "code",
   "execution_count": 3,
   "metadata": {},
   "outputs": [],
   "source": [
    "# return partial derivatives of residual i, wrt. the matrix coefficients\n",
    "def r_delA(A, b, zi):\n",
    "    n = b.size\n",
    "    rdA = 2 * (v * (v * np.ones_like(A)).T)\n",
    "    rdA = rdA - 1/2 * np.identity(n) * rdA\n",
    "    return extract_a(rdA)\n",
    "\n",
    "# Return vector of all partial derivatives of residual i\n",
    "def del_r(A, b, zi):\n",
    "    n = np.size\n",
    "    k = n*(n+1)//2\n",
    "    dr = np.zeros(k+n)\n",
    "    dr[:k] = r_delA(A, c, zi)\n",
    "    dr[k:] = zi\n",
    "\n",
    "#Jacobian of residual vector\n",
    "def jacobian_R(A, c, z):\n",
    "    m = z.shape[0]\n",
    "    n = z.shape[1]\n",
    "    k = n*(n+1)//2\n",
    "    R = np.zeros((m, k+n))\n",
    "    for i in range(m):\n",
    "        R[i] = del_r(A, c, z[i])\n",
    "    return R\n",
    "    "
   ]
  },
  {
   "cell_type": "code",
   "execution_count": 96,
   "metadata": {},
   "outputs": [
    {
     "data": {
      "text/plain": [
       "57"
      ]
     },
     "execution_count": 96,
     "metadata": {},
     "output_type": "execute_result"
    }
   ],
   "source": [
    "h = lambda A, b, z: z.T @ A @ z + b @ z - 1\n",
    "h(A, b, z[0])"
   ]
  },
  {
   "cell_type": "code",
   "execution_count": 100,
   "metadata": {
    "collapsed": true
   },
   "outputs": [],
   "source": [
    "def r_delA(A, c, z)\n",
    "    "
   ]
  },
  {
   "cell_type": "code",
   "execution_count": null,
   "metadata": {
    "collapsed": true
   },
   "outputs": [],
   "source": []
  }
 ],
 "metadata": {
  "kernelspec": {
   "display_name": "Python 3",
   "language": "python",
   "name": "python3"
  },
  "language_info": {
   "codemirror_mode": {
    "name": "ipython",
    "version": 3
   },
   "file_extension": ".py",
   "mimetype": "text/x-python",
   "name": "python",
   "nbconvert_exporter": "python",
   "pygments_lexer": "ipython3",
   "version": "3.6.3"
  }
 },
 "nbformat": 4,
 "nbformat_minor": 2
}
