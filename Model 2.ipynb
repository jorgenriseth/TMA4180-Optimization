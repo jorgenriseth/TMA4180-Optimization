{
 "cells": [
  {
   "cell_type": "markdown",
   "metadata": {},
   "source": [
    "# Model 2: Implementation"
   ]
  },
  {
   "cell_type": "code",
   "execution_count": 1,
   "metadata": {
    "collapsed": true
   },
   "outputs": [],
   "source": [
    "import numpy as np\n",
    "import matplotlib as plt"
   ]
  },
  {
   "cell_type": "code",
   "execution_count": 42,
   "metadata": {},
   "outputs": [],
   "source": [
    "def h(A, b, zi, wi):\n",
    "    return zi.T @ A @ zi + b.T @ zi -1\n",
    "\n",
    "# Residual for single point\n",
    "def r(A, b, zi, wi):\n",
    "    x = zi.T @ A @zi + b.T @ zi - 1\n",
    "    return np.maximum(wi * x, 0)\n",
    "\n",
    "# Residual vector for all points\n",
    "def R(A, b, Z, W):\n",
    "    R = np.zeros_like(W, dtype = float)\n",
    "    for i in range(R.size):\n",
    "#         print(r(A, b, Z[i], W[i]))\n",
    "        R[i] = r(A, b, Z[i], W[i])\n",
    "    \n",
    "    return R\n",
    "\n",
    "#Objective function\n",
    "def f(x, Z, W):\n",
    "    m, n = Z.shape\n",
    "    A = np.zeros((n, n))\n",
    "    b = np.zeros(n)\n",
    "    update_A(A, x)\n",
    "    update_b(b, x)\n",
    "#     print(A)\n",
    "#     print(b)\n",
    "    return np.sum(R(A, b, Z, W)**2)"
   ]
  },
  {
   "cell_type": "markdown",
   "metadata": {},
   "source": [
    "Se etter for de deriverte. Sørg for at gradienten følger opp riktig område."
   ]
  },
  {
   "cell_type": "code",
   "execution_count": 43,
   "metadata": {},
   "outputs": [
    {
     "data": {
      "text/plain": [
       "array([[1, 2, 3],\n",
       "       [0, 0, 0],\n",
       "       [7, 8, 9]])"
      ]
     },
     "execution_count": 43,
     "metadata": {},
     "output_type": "execute_result"
    }
   ],
   "source": [
    "U = np.array((1,2,3,4,5,6,7,8,9)).reshape(3,3)\n",
    "W = np.array((1, -1, 1))\n",
    "(U.T * (W == 1)).T"
   ]
  },
  {
   "cell_type": "code",
   "execution_count": 171,
   "metadata": {
    "collapsed": true
   },
   "outputs": [],
   "source": [
    "# return partial derivatives of residual i, wrt. the matrix coefficients\n",
    "def r_delA(A, b, zi, wi):\n",
    "    n = b.size\n",
    "    rdA = 2 * (zi * (zi * np.ones_like(A)).T)\n",
    "    rdA = rdA - 1/2 * np.identity(n) * rdA\n",
    "    return extract_a(rdA)\n",
    "\n",
    "# Return vector of all partial derivatives of residual i\n",
    "def del_r(A, b, zi, wi):\n",
    "    n = b.size\n",
    "    k = n*(n+1)//2\n",
    "    dr = np.zeros(k+n)\n",
    "    dr[:k] = r_delA(A, b, zi, wi)\n",
    "    dr[k:] = zi\n",
    "    return wi * dr\n",
    "\n",
    "#Jacobian of residual vector\n",
    "def jacobian_R(A, b, Z, W):\n",
    "    m, n = Z.shape\n",
    "    k = n*(n+1)//2\n",
    "    J = np.zeros((m, k+n))\n",
    "    print(A)\n",
    "    for i in range(m):\n",
    "        J[i] = del_r(A, b, Z[i], W[i])\n",
    "    return (J.T * (R(A, b, Z, W) > 0) ).T\n",
    "\n",
    "# Gradient of objective function\n",
    "def df(x, Z, W):\n",
    "    m, n = Z.shape\n",
    "    A = np.zeros((n, n))\n",
    "    b = np.zeros(n)\n",
    "    update_A(A, x)\n",
    "    update_b(b, x)\n",
    "    print(A)\n",
    "    return 4 * jacobian_R(A, b, Z, W).T @ R(A, b, Z, W)"
   ]
  },
  {
   "cell_type": "code",
   "execution_count": 172,
   "metadata": {
    "collapsed": true
   },
   "outputs": [],
   "source": [
    "# Insert coefficients in (nxn) matrix A, given (m+k) vector x\n",
    "def update_A(A, x):\n",
    "    n = A.shape[0]\n",
    "    k = n*(n+1)//2    \n",
    "    end = 0\n",
    "    for j in range(n):\n",
    "        start = end\n",
    "        end = start + n-j\n",
    "        A[j, j:] = x[start:end]\n",
    "        A[j+1:,j] = A[j, j+1:]\n",
    "    \n",
    "    return A\n",
    "\n",
    "# Insert coefficients in (n) centering vector given (n+k) vector x\n",
    "def update_b(b, x):\n",
    "    n = b.size\n",
    "    b = x[-n:]\n",
    "    return b\n",
    "\n",
    "# Get the first (k) coefficients of (n+k) vector x, given an (nxn) matrix A\n",
    "def extract_a(A):\n",
    "    n = A.shape[0]\n",
    "    k = n*(n+1)//2\n",
    "    a = np.zeros(k)\n",
    "    end = 0\n",
    "    \n",
    "    for j in range(n):\n",
    "        start = end\n",
    "        end = start + n-j\n",
    "        a[start:end] = A[j, j:]\n",
    "        \n",
    "    return a"
   ]
  },
  {
   "cell_type": "code",
   "execution_count": 173,
   "metadata": {},
   "outputs": [
    {
     "name": "stdout",
     "output_type": "stream",
     "text": [
      "[[ 1.  0.]\n",
      " [ 0.  1.]]\n"
     ]
    },
    {
     "data": {
      "text/plain": [
       "array([[ -0.  ,  -0.  ,  -0.25,  -0.  ,  -0.5 ],\n",
       "       [ 16.  ,   0.  ,   0.  ,   4.  ,   0.  ]])"
      ]
     },
     "execution_count": 173,
     "metadata": {},
     "output_type": "execute_result"
    }
   ],
   "source": [
    "Z = np.array((0, 0.5, 4, 0)).reshape(2, 2)\n",
    "W = np.array((-1, 1))\n",
    "x = np.array((1, 0, 1, 0, 0))\n",
    "A = np.zeros((2, 2))\n",
    "b = np.zeros(2)\n",
    "A = update_A(A, x)\n",
    "\n",
    "\n",
    "jacobian_R(A, b, Z, W)"
   ]
  },
  {
   "cell_type": "code",
   "execution_count": 174,
   "metadata": {},
   "outputs": [
    {
     "data": {
      "text/plain": [
       "array([[ 0. ,  0.5],\n",
       "       [ 4. ,  0. ]])"
      ]
     },
     "execution_count": 174,
     "metadata": {},
     "output_type": "execute_result"
    }
   ],
   "source": [
    "Z"
   ]
  },
  {
   "cell_type": "code",
   "execution_count": 175,
   "metadata": {},
   "outputs": [
    {
     "data": {
      "text/plain": [
       "array([-1,  1])"
      ]
     },
     "execution_count": 175,
     "metadata": {},
     "output_type": "execute_result"
    }
   ],
   "source": [
    "W"
   ]
  },
  {
   "cell_type": "code",
   "execution_count": 176,
   "metadata": {},
   "outputs": [
    {
     "data": {
      "text/plain": [
       "array([[ 1.,  0.],\n",
       "       [ 0.,  1.]])"
      ]
     },
     "execution_count": 176,
     "metadata": {},
     "output_type": "execute_result"
    }
   ],
   "source": [
    "A = update_A(A, x)\n",
    "A"
   ]
  },
  {
   "cell_type": "code",
   "execution_count": 177,
   "metadata": {},
   "outputs": [
    {
     "data": {
      "text/plain": [
       "array([0, 0])"
      ]
     },
     "execution_count": 177,
     "metadata": {},
     "output_type": "execute_result"
    }
   ],
   "source": [
    "b = update_b(b, x)\n",
    "b"
   ]
  },
  {
   "cell_type": "code",
   "execution_count": 178,
   "metadata": {},
   "outputs": [
    {
     "data": {
      "text/plain": [
       "array([  0.75,  15.  ])"
      ]
     },
     "execution_count": 178,
     "metadata": {},
     "output_type": "execute_result"
    }
   ],
   "source": [
    "R(A, b, Z, W)"
   ]
  },
  {
   "cell_type": "code",
   "execution_count": 179,
   "metadata": {},
   "outputs": [
    {
     "data": {
      "text/plain": [
       "225.5625"
      ]
     },
     "execution_count": 179,
     "metadata": {},
     "output_type": "execute_result"
    }
   ],
   "source": [
    "f(x, Z, W)"
   ]
  },
  {
   "cell_type": "code",
   "execution_count": 180,
   "metadata": {},
   "outputs": [
    {
     "name": "stdout",
     "output_type": "stream",
     "text": [
      "[[ 1.  0.]\n",
      " [ 0.  1.]]\n",
      "[[ 1.  0.]\n",
      " [ 0.  1.]]\n"
     ]
    },
    {
     "data": {
      "text/plain": [
       "array([  9.60000000e+02,   0.00000000e+00,  -7.50000000e-01,\n",
       "         2.40000000e+02,  -1.50000000e+00])"
      ]
     },
     "execution_count": 180,
     "metadata": {},
     "output_type": "execute_result"
    }
   ],
   "source": [
    "df(x, Z, W)"
   ]
  },
  {
   "cell_type": "code",
   "execution_count": 319,
   "metadata": {
    "scrolled": false
   },
   "outputs": [
    {
     "name": "stdout",
     "output_type": "stream",
     "text": [
      "[[ 1.  0.]\n",
      " [ 0.  1.]]\n",
      "[[ 1.  0.]\n",
      " [ 0.  1.]]\n",
      "[-1  1  1 -1 -1  1  1 -1  1 -1]\n",
      "474.461886798\n",
      "223.404200132\n",
      "[1 0 1 0 0] \n",
      "\n",
      "ep = 1.000000e+03, error = 1.340814e+02, g_app = 3.017775e+04\n",
      "ep = 1.000000e+02, error = 1.313562e+01, g_app = 3.157957e+03\n",
      "ep = 1.000000e+01, error = 1.019366e+00, g_app = 4.511349e+02\n",
      "ep = 1.000000e+00, error = 3.556355e-01, g_app = 1.439537e+02\n",
      "ep = 1.000000e-01, error = 5.537211e-01, g_app = 9.970057e+01\n",
      "ep = 1.000000e-02, error = 5.735297e-01, g_app = 9.527526e+01\n",
      "ep = 1.000000e-03, error = 5.755106e-01, g_app = 9.483272e+01\n",
      "ep = 1.000000e-04, error = 5.757086e-01, g_app = 9.478847e+01\n",
      "ep = 1.000000e-05, error = 5.757285e-01, g_app = 9.478405e+01\n",
      "ep = 1.000000e-06, error = 5.757304e-01, g_app = 9.478360e+01\n",
      "ep = 1.000000e-07, error = 5.757306e-01, g_app = 9.478356e+01\n",
      "ep = 1.000000e-08, error = 5.757308e-01, g_app = 9.478353e+01\n",
      "ep = 1.000000e-09, error = 5.757311e-01, g_app = 9.478345e+01\n",
      "ep = 1.000000e-10, error = 5.757332e-01, g_app = 9.478299e+01\n",
      "ep = 1.000000e-11, error = 5.757688e-01, g_app = 9.477503e+01\n"
     ]
    }
   ],
   "source": [
    "#Generate random values\n",
    "#np.random.seed(0)\n",
    "m = 10\n",
    "n = 2\n",
    "k = n*(n+1)//2\n",
    "x = np.array((1, 0, 1, 0, 0))\n",
    "# x = np.random.randn(k+n)\n",
    "Z = 2*np.random.randn(n*m).reshape(m,n)\n",
    "W = np.random.choice([-1, 1], m)\n",
    "#W = np.array((-1, -1, -1))\n",
    "p = np.random.randn(n+k)\n",
    "p = p/np.linalg.norm(p)\n",
    "f0 = f(x, Z, W)\n",
    "g = df(x, Z, W).dot(p)\n",
    "\n",
    "print(W)\n",
    "print(f0)\n",
    "print(g)\n",
    "print(x, '\\n')\n",
    "for ep in 10.0**np.arange(3, -12, -1):\n",
    "    g_app = ( f(x+ep*p, Z, W) - f0 )/ep\n",
    "    error = abs(g_app-g)/abs(g)\n",
    "    \n",
    "    print('ep = %e, error = %e, g_app = %e' % (ep,error,g_app))"
   ]
  }
 ],
 "metadata": {
  "kernelspec": {
   "display_name": "Python 3",
   "language": "python",
   "name": "python3"
  },
  "language_info": {
   "codemirror_mode": {
    "name": "ipython",
    "version": 3
   },
   "file_extension": ".py",
   "mimetype": "text/x-python",
   "name": "python",
   "nbconvert_exporter": "python",
   "pygments_lexer": "ipython3",
   "version": "3.6.3"
  }
 },
 "nbformat": 4,
 "nbformat_minor": 2
}
