{
 "cells": [
  {
   "cell_type": "markdown",
   "metadata": {},
   "source": [
    "# Model 1: Implementation"
   ]
  },
  {
   "cell_type": "code",
   "execution_count": 1,
   "metadata": {
    "collapsed": true
   },
   "outputs": [],
   "source": [
    "import numpy as np\n",
    "import matplotlib.pyplot as plt"
   ]
  },
  {
   "cell_type": "code",
   "execution_count": 2,
   "metadata": {
    "collapsed": true
   },
   "outputs": [],
   "source": [
    "# Residual for single point\n",
    "def r(A, c, zi, wi):\n",
    "    v = zi - c\n",
    "    x = v.T @ A @ v - 1\n",
    "    return np.maximum(wi * x, 0)\n",
    "\n",
    "# Residual vector\n",
    "def R(A, c, Z, W):\n",
    "    R = np.zeros_like(W)\n",
    "    for i in range(R.size):\n",
    "        R[i] = r(A, c, Z[i], W[i])\n",
    "    return R\n",
    "\n",
    "\n",
    "# Objective function\n",
    "def f(x, Z, W):\n",
    "    m, n = Z.shape\n",
    "    A = np.zeros((n, n))\n",
    "    c = np.zeros(n)\n",
    "    update_A(A, x)\n",
    "    update_c(c, x)\n",
    "    return np.sum(R(A, c, Z, W)**2)\n",
    "\n",
    "\n",
    "# Gradient of objective function. Returns (n+k) vector\n",
    "def df(x, Z, W):\n",
    "    m, n = Z.shape\n",
    "    A = np.zeros((n, n))\n",
    "    c = np.zeros(n)\n",
    "    update_A(A, x)\n",
    "    update_c(c, x)\n",
    "    print(R(A, c, Z, W))\n",
    "    print(jacobian_R(A, c, Z))\n",
    "    return jacobian_R(A, c, Z).T @ R(A, c, Z, W)"
   ]
  },
  {
   "cell_type": "code",
   "execution_count": 3,
   "metadata": {
    "collapsed": true
   },
   "outputs": [],
   "source": [
    "# Insert coefficients in (nxn) matrix A, given (m+k) vector x\n",
    "def update_A(A, x):\n",
    "    n = A.shape[0]\n",
    "    k = n*(n+1)//2\n",
    "    a = x[:k]\n",
    "    \n",
    "    end = 0\n",
    "    for j in range(n):\n",
    "        start = end\n",
    "        end = start + n-j\n",
    "        A[j, j:] = x[start:end]\n",
    "        A[j+1:,j] = A[j, j+1:]\n",
    "    \n",
    "    return A\n",
    "\n",
    "# Insert coefficients in (n) centering vector given (n+k) vector x\n",
    "def update_c(c, x):\n",
    "    n = c.size\n",
    "    c = x[-n:]\n",
    "    return c\n",
    "\n",
    "# Get the first (k) coefficients of (n+k) vector x, given an (nxn) matrix A\n",
    "def extract_a(A):\n",
    "    n = A.shape[0]\n",
    "    k = n*(n+1)//2\n",
    "    a = np.zeros(k)\n",
    "    end = 0\n",
    "    \n",
    "    for j in range(n):\n",
    "        start = end\n",
    "        end = start + n-j\n",
    "        a[start:end] = A[j, j:]\n",
    "        \n",
    "    return a"
   ]
  },
  {
   "cell_type": "code",
   "execution_count": 4,
   "metadata": {
    "collapsed": true
   },
   "outputs": [],
   "source": [
    "# return partial derivatives of residual i, wrt. the matrix coefficients\n",
    "def r_delA(A, c, zi):\n",
    "    v = zi - c\n",
    "    rdA = 2 * (v * (v * np.ones_like(A)).T)\n",
    "    rdA = rdA - 1/2 * np.identity(c.size) * rdA\n",
    "    return extract_a(rdA)\n",
    "\n",
    "# return partial derivatives of residual i, wrt. centering vector coefficients\n",
    "def r_delc(A, c, zi):\n",
    "    v = zi - c\n",
    "    return - 2 * (v.T @ A)\n",
    "\n",
    "# Return vector of all partial derivatives of residual i\n",
    "def del_r(A, c, zi):\n",
    "    v = zi - c\n",
    "    n = c.size\n",
    "    k = n*(n+1)//2\n",
    "    dr = np.zeros(k+n)\n",
    "    dr[:k] = r_delA(A, c, zi)\n",
    "    dr[k:] = r_delc(A, c, zi)\n",
    "    return dr\n",
    "\n",
    "#Jacobian of a all residual points. \n",
    "def jacobian_R(A, c, Z):\n",
    "    m, n = Z.shape\n",
    "    k = n*(n+1)//2\n",
    "    R = np.zeros((m, n+k))\n",
    "    for i in range(m):\n",
    "        R[i] = del_r(A, c, Z[i])\n",
    "    return R"
   ]
  },
  {
   "cell_type": "code",
   "execution_count": 5,
   "metadata": {},
   "outputs": [
    {
     "data": {
      "text/plain": [
       "243.0"
      ]
     },
     "execution_count": 5,
     "metadata": {},
     "output_type": "execute_result"
    }
   ],
   "source": [
    "Z = np.array((2, 3, 2, 4, 4, 5)).reshape(3, 2)\n",
    "W = np.ones(3)\n",
    "x = np.array((1, 0, 0, 4, 1, 0))\n",
    "f(x, Z, W)"
   ]
  },
  {
   "cell_type": "code",
   "execution_count": 6,
   "metadata": {},
   "outputs": [
    {
     "name": "stdout",
     "output_type": "stream",
     "text": [
      "[  3.   3.  15.]\n",
      "[[  4.  12.   9.  -4.  -0.]\n",
      " [  4.  16.  16.  -4.  -0.]\n",
      " [ 16.  40.  25.  -8.  -0.]]\n"
     ]
    },
    {
     "data": {
      "text/plain": [
       "array([ 264.,  684.,  450., -144.,    0.])"
      ]
     },
     "execution_count": 6,
     "metadata": {},
     "output_type": "execute_result"
    }
   ],
   "source": [
    "df(x, Z, W)"
   ]
  }
 ],
 "metadata": {
  "kernelspec": {
   "display_name": "Python 3",
   "language": "python",
   "name": "python3"
  },
  "language_info": {
   "codemirror_mode": {
    "name": "ipython",
    "version": 3
   },
   "file_extension": ".py",
   "mimetype": "text/x-python",
   "name": "python",
   "nbconvert_exporter": "python",
   "pygments_lexer": "ipython3",
   "version": "3.6.3"
  }
 },
 "nbformat": 4,
 "nbformat_minor": 2
}
