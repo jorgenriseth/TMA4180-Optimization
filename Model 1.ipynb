{
 "cells": [
  {
   "cell_type": "code",
   "execution_count": 1,
   "metadata": {
    "collapsed": true
   },
   "outputs": [],
   "source": [
    "import numpy as np\n",
    "import matplotlib.pyplot as plt"
   ]
  },
  {
   "cell_type": "code",
   "execution_count": 78,
   "metadata": {
    "collapsed": true
   },
   "outputs": [],
   "source": [
    "# Residual for single point\n",
    "def r(A, c, zi, wi):\n",
    "    v = zi - c\n",
    "    x = v.T @ A @ v\n",
    "    return (wi == 1) * np.maximum(x - 1, 0) + (wi == -1) * np.maximum(1 - x, 0)\n",
    "\n",
    "\n",
    "# Residual vector\n",
    "def R(A, c, z, w):\n",
    "    R = np.zeros_like(w)\n",
    "    for i in range(R.size):\n",
    "        R[i] = r(A, c, z[i], w[i])\n",
    "    return R\n",
    "\n",
    "\n",
    "# Objective function\n",
    "def f(R):\n",
    "    return np.sum(R**2)\n",
    "\n",
    "\n",
    "# Gradient of objective function. Returns (n+k) vector\n",
    "def grad_f(R):\n",
    "    J = jacobian_R(A, c, z)\n",
    "    return J.T @ R"
   ]
  },
  {
   "cell_type": "code",
   "execution_count": 79,
   "metadata": {
    "collapsed": true
   },
   "outputs": [],
   "source": [
    "# Insert coefficients in (nxn) matrix A, given (m+k) vector x\n",
    "def update_A(A, x):\n",
    "    n = A.shape[0]\n",
    "    a = x[:n*(n+1)//2]\n",
    "    for j in range(n):\n",
    "        start = j*n - j*(j+1)//n\n",
    "        end = start + n-j\n",
    "        A[j, j:] = x[start:end]\n",
    "    return A\n",
    "\n",
    "# Insert coefficients in (n) centering vector given (n+k) vector x\n",
    "def update_c(c, x):\n",
    "    c = x[-n:]\n",
    "    return c\n",
    "\n",
    "# Get the first (k) coefficients of (n+k) vector x, given an (nxn) matrix A\n",
    "def extract_a(A):\n",
    "    n = A.shape[0]\n",
    "    k = n*(n+1)//2\n",
    "    a = np.zeros(k)\n",
    "    end = 0\n",
    "    \n",
    "    for j in range(n):\n",
    "        start = end\n",
    "        end = start + n-j\n",
    "        a[start:end] = A[j, j:]\n",
    "        \n",
    "    return a"
   ]
  },
  {
   "cell_type": "code",
   "execution_count": 80,
   "metadata": {
    "collapsed": true
   },
   "outputs": [],
   "source": [
    "# return partial derivatives of residual i, wrt. the matrix coefficients\n",
    "def r_delA(A, c, zi):\n",
    "    v = zi - c\n",
    "    rdA = 2 * (v * (v * np.ones_like(A)).T)\n",
    "    rdA = rdA - 1/2 * np.identity(c.size) * rdA\n",
    "    return extract_a(rdA)\n",
    "\n",
    "# return partial derivatives of residual i, wrt. centering vector coefficients\n",
    "def r_delc(A, c, zi):\n",
    "    v = zi - c\n",
    "    n = c.size\n",
    "    return - 2 * (v.T @ A)\n",
    "\n",
    "# Return vector of all partial derivatives of residual i\n",
    "def del_r(A, c, zi):\n",
    "    v = zi - c\n",
    "    n = np.size(c)\n",
    "    k = n*(n+1)//2\n",
    "    dr = np.zeros(k+n)\n",
    "    dr[:k] = r_delA(A, c, zi)\n",
    "    dr[k:] = r_delc(A, c, zi)\n",
    "    return dr\n",
    "\n",
    "#Jacobian of a all residual points. \n",
    "def jacobian_R(A, c, z):\n",
    "    m = z.shape[0]\n",
    "    n = c.size\n",
    "    k = n*(n+1)//2\n",
    "    R = np.zeros((m, n+k))\n",
    "    for i in range(m):\n",
    "        R[i] = del_r(A, c, z[i])\n",
    "    return R"
   ]
  },
  {
   "cell_type": "code",
   "execution_count": 81,
   "metadata": {
    "collapsed": true
   },
   "outputs": [],
   "source": [
    "A = np.array((1, 2, 3, 2, 4, 5, 3, 5, 6)).reshape(3, 3)\n",
    "z = np.array((2, 3, 2, 4, 4, 5)).reshape(2,3)\n",
    "c = np.array((1, 4, 5))\n",
    "w = np.array((1, 1))"
   ]
  },
  {
   "cell_type": "code",
   "execution_count": 82,
   "metadata": {},
   "outputs": [
    {
     "data": {
      "text/plain": [
       "array([[ 1, -1, -3],\n",
       "       [ 3,  0,  0]])"
      ]
     },
     "execution_count": 82,
     "metadata": {},
     "output_type": "execute_result"
    }
   ],
   "source": [
    "v = z - c\n",
    "v"
   ]
  },
  {
   "cell_type": "code",
   "execution_count": 83,
   "metadata": {
    "collapsed": true
   },
   "outputs": [],
   "source": [
    "R = R(A, c, z, w)\n",
    "J_R = jacobian_R(A, c, z)"
   ]
  },
  {
   "cell_type": "code",
   "execution_count": 84,
   "metadata": {},
   "outputs": [
    {
     "data": {
      "text/plain": [
       "array([66,  8])"
      ]
     },
     "execution_count": 84,
     "metadata": {},
     "output_type": "execute_result"
    }
   ],
   "source": [
    "R"
   ]
  },
  {
   "cell_type": "code",
   "execution_count": 85,
   "metadata": {},
   "outputs": [
    {
     "data": {
      "text/plain": [
       "array([[  1.,  -2.,  -6.,   1.,   6.,   9.,  20.,  34.,  40.],\n",
       "       [  9.,   0.,   0.,   0.,   0.,   0.,  -6., -12., -18.]])"
      ]
     },
     "execution_count": 85,
     "metadata": {},
     "output_type": "execute_result"
    }
   ],
   "source": [
    "J_R"
   ]
  },
  {
   "cell_type": "code",
   "execution_count": 86,
   "metadata": {},
   "outputs": [
    {
     "data": {
      "text/plain": [
       "array([  138.,  -132.,  -396.,    66.,   396.,   594.,  1272.,  2148.,\n",
       "        2496.])"
      ]
     },
     "execution_count": 86,
     "metadata": {},
     "output_type": "execute_result"
    }
   ],
   "source": [
    "grad_f(R)"
   ]
  }
 ],
 "metadata": {
  "kernelspec": {
   "display_name": "Python 3",
   "language": "python",
   "name": "python3"
  },
  "language_info": {
   "codemirror_mode": {
    "name": "ipython",
    "version": 3
   },
   "file_extension": ".py",
   "mimetype": "text/x-python",
   "name": "python",
   "nbconvert_exporter": "python",
   "pygments_lexer": "ipython3",
   "version": "3.6.3"
  }
 },
 "nbformat": 4,
 "nbformat_minor": 2
}
