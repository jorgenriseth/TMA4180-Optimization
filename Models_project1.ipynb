{
 "cells": [
  {
   "cell_type": "code",
   "execution_count": 54,
   "metadata": {
    "collapsed": true
   },
   "outputs": [],
   "source": [
    "import numpy as np\n",
    "import matplotlib.pyplot as plt"
   ]
  },
  {
   "cell_type": "markdown",
   "metadata": {},
   "source": [
    "Let z be m x n matrix, with row vectors of dimension n. let c be an n-dim vector. and A an nxn matrix. Define $k:=n(n+1)/2$, and let x be vector with $(a_{11}, a_{12}, ..., a_{1n}, a_{22}, a_{23}, ..., a_{nn}) = (x_1, x_2, ..., x_k)$, and $(c_1, c_2, ..., c_n) = (x_{k+1}, x_{k+2}, ..., x_{k + n})$"
   ]
  },
  {
   "cell_type": "markdown",
   "metadata": {},
   "source": [
    "## Model 1"
   ]
  },
  {
   "cell_type": "code",
   "execution_count": 55,
   "metadata": {
    "collapsed": true
   },
   "outputs": [],
   "source": [
    "def r_plus(A, c, z):\n",
    "    v = z - c    \n",
    "    x = (v @ A * v).sum(axis=1)\n",
    "    return np.maximum(x - 1, 0)\n",
    "\n",
    "def r_minus(A, c, z):\n",
    "    v  = z - c    \n",
    "    x = (v @ A * v).sum(axis=1)\n",
    "    return np.maximum(1 - x, 0)\n",
    "\n",
    "def r(A, c, z, w):\n",
    "    x_plus = r_plus(A, c, z)\n",
    "    x_minus = r_minus(A, c, z)\n",
    "    return (w == 1) * x_plus + (w == -1) * x_minus\n",
    "\n",
    "def f(A, c, z, w):\n",
    "    R = r(A, c, z, w)\n",
    "    return np.sum(R**2)\n",
    "\n",
    "def update_A(A, x):\n",
    "    n = A.shape[0]\n",
    "    a = x[:n*(n+1)//2]\n",
    "    for j in range(n):\n",
    "        A[j, j:] = x[j*n:(j+1)*n-j]\n",
    "    return A\n",
    "        \n",
    "def update_c(c, x):\n",
    "    c = x[-n:]\n",
    "    return c"
   ]
  },
  {
   "cell_type": "markdown",
   "metadata": {},
   "source": [
    "## Model 2"
   ]
  },
  {
   "cell_type": "code",
   "execution_count": 53,
   "metadata": {},
   "outputs": [],
   "source": [
    "def r_plus(A, b, z):    \n",
    "    x = (z @ A * z).sum(axis=1) + z @ b\n",
    "    return np.maximum(x - 1, 0)\n",
    "\n",
    "def r_minus(A, b, z):\n",
    "    x = (z @ A * z).sum(axis=1) + z @ b\n",
    "    return np.maximum(1 - x, 0)\n",
    "\n",
    "def r(A, c, z, w):\n",
    "    x_plus = r_plus(A, c, z)\n",
    "    x_minus = r_minus(A, c, z)\n",
    "    return (w == 1) * x_plus + (w == -1) * x_minus\n",
    "\n",
    "def f(A, c, z, w):\n",
    "    R = r(A, c, z, w)\n",
    "    return np.sum(R**2)\n",
    "\n",
    "def update_A(A, x):\n",
    "    n = A.shape[0]\n",
    "    a = x[:n*(n+1)//2]\n",
    "    for j in range(n):\n",
    "        A[j, j:] = x[j*n:(j+1)*n-j]\n",
    "    return A\n",
    "        \n",
    "def update_c(c, x):\n",
    "    c = x[-n:]\n",
    "    return c"
   ]
  },
  {
   "cell_type": "markdown",
   "metadata": {},
   "source": [
    "### DRAFT & TESTING "
   ]
  },
  {
   "cell_type": "code",
   "execution_count": 37,
   "metadata": {},
   "outputs": [],
   "source": [
    "A = np.array((1, 0, 0, 1)).reshape(2,2)\n",
    "c = np.array((2, 1))\n",
    "b = c -1\n",
    "z = np.array((1, 2, 4, 3, 2, -1, 1.5, 1)).reshape(4, 2)\n",
    "w = np.array((1, 1, 1, -1))"
   ]
  },
  {
   "cell_type": "code",
   "execution_count": 38,
   "metadata": {},
   "outputs": [
    {
     "data": {
      "text/plain": [
       "array([2, 1])"
      ]
     },
     "execution_count": 38,
     "metadata": {},
     "output_type": "execute_result"
    }
   ],
   "source": [
    "c"
   ]
  },
  {
   "cell_type": "code",
   "execution_count": 39,
   "metadata": {},
   "outputs": [
    {
     "data": {
      "text/plain": [
       "array([1, 0])"
      ]
     },
     "execution_count": 39,
     "metadata": {},
     "output_type": "execute_result"
    }
   ],
   "source": [
    "b"
   ]
  },
  {
   "cell_type": "code",
   "execution_count": 40,
   "metadata": {},
   "outputs": [
    {
     "data": {
      "text/plain": [
       "array([[ 1. ,  2. ],\n",
       "       [ 4. ,  3. ],\n",
       "       [ 2. , -1. ],\n",
       "       [ 1.5,  1. ]])"
      ]
     },
     "execution_count": 40,
     "metadata": {},
     "output_type": "execute_result"
    }
   ],
   "source": [
    "z"
   ]
  },
  {
   "cell_type": "code",
   "execution_count": 41,
   "metadata": {},
   "outputs": [],
   "source": [
    "v  = z - c"
   ]
  },
  {
   "cell_type": "code",
   "execution_count": 42,
   "metadata": {},
   "outputs": [
    {
     "data": {
      "text/plain": [
       "5"
      ]
     },
     "execution_count": 42,
     "metadata": {},
     "output_type": "execute_result"
    }
   ],
   "source": [
    "c.T @ A @ c"
   ]
  },
  {
   "cell_type": "code",
   "execution_count": 43,
   "metadata": {},
   "outputs": [
    {
     "data": {
      "text/plain": [
       "array([ 2.  ,  8.  ,  4.  ,  0.25])"
      ]
     },
     "execution_count": 43,
     "metadata": {},
     "output_type": "execute_result"
    }
   ],
   "source": [
    "(v @ A * v).sum(axis=1)"
   ]
  },
  {
   "cell_type": "code",
   "execution_count": 44,
   "metadata": {},
   "outputs": [
    {
     "data": {
      "text/plain": [
       "array([  5.  ,  25.  ,   5.  ,   3.25])"
      ]
     },
     "execution_count": 44,
     "metadata": {},
     "output_type": "execute_result"
    }
   ],
   "source": [
    "(z @ A * z).sum(axis=1)"
   ]
  },
  {
   "cell_type": "code",
   "execution_count": 45,
   "metadata": {},
   "outputs": [
    {
     "data": {
      "text/plain": [
       "array([ 1. ,  4. ,  2. ,  1.5])"
      ]
     },
     "execution_count": 45,
     "metadata": {},
     "output_type": "execute_result"
    }
   ],
   "source": [
    "z @ b"
   ]
  },
  {
   "cell_type": "code",
   "execution_count": 46,
   "metadata": {},
   "outputs": [
    {
     "data": {
      "text/plain": [
       "array([ 1.,  7.,  3.,  0.])"
      ]
     },
     "execution_count": 46,
     "metadata": {},
     "output_type": "execute_result"
    }
   ],
   "source": [
    "r_plus(A, c, z)"
   ]
  },
  {
   "cell_type": "code",
   "execution_count": 47,
   "metadata": {},
   "outputs": [
    {
     "data": {
      "text/plain": [
       "array([ 0.  ,  0.  ,  0.  ,  0.75])"
      ]
     },
     "execution_count": 47,
     "metadata": {},
     "output_type": "execute_result"
    }
   ],
   "source": [
    "r_minus(A, c, z)"
   ]
  },
  {
   "cell_type": "code",
   "execution_count": 48,
   "metadata": {},
   "outputs": [
    {
     "data": {
      "text/plain": [
       "array([ 1.  ,  7.  ,  3.  ,  0.75])"
      ]
     },
     "execution_count": 48,
     "metadata": {},
     "output_type": "execute_result"
    }
   ],
   "source": [
    "r(A, c, z, w)"
   ]
  },
  {
   "cell_type": "code",
   "execution_count": 49,
   "metadata": {},
   "outputs": [
    {
     "data": {
      "text/plain": [
       "59.5625"
      ]
     },
     "execution_count": 49,
     "metadata": {},
     "output_type": "execute_result"
    }
   ],
   "source": [
    "f(A, c, z, w)"
   ]
  },
  {
   "cell_type": "code",
   "execution_count": 50,
   "metadata": {},
   "outputs": [],
   "source": [
    "A = np.zeros((3, 3))\n",
    "x = np.array((1, 2, 3, 4, 5, 6, 7, 8, 9))\n",
    "n = 3\n",
    "a = x[:n*(n+1)//2]\n",
    "c = x[-n:]"
   ]
  },
  {
   "cell_type": "code",
   "execution_count": 56,
   "metadata": {},
   "outputs": [
    {
     "data": {
      "text/plain": [
       "array([1, 2, 3, 4, 5, 6])"
      ]
     },
     "execution_count": 56,
     "metadata": {},
     "output_type": "execute_result"
    }
   ],
   "source": [
    "a"
   ]
  },
  {
   "cell_type": "code",
   "execution_count": 57,
   "metadata": {},
   "outputs": [
    {
     "data": {
      "text/plain": [
       "array([7, 8, 9])"
      ]
     },
     "execution_count": 57,
     "metadata": {},
     "output_type": "execute_result"
    }
   ],
   "source": [
    "c"
   ]
  }
 ],
 "metadata": {
  "kernelspec": {
   "display_name": "Python 3",
   "language": "python",
   "name": "python3"
  },
  "language_info": {
   "codemirror_mode": {
    "name": "ipython",
    "version": 3
   },
   "file_extension": ".py",
   "mimetype": "text/x-python",
   "name": "python",
   "nbconvert_exporter": "python",
   "pygments_lexer": "ipython3",
   "version": "3.6.3"
  }
 },
 "nbformat": 4,
 "nbformat_minor": 2
}
