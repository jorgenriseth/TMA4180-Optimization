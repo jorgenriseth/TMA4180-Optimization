{
 "cells": [
  {
   "cell_type": "code",
   "execution_count": 1,
   "metadata": {},
   "outputs": [],
   "source": [
    "import numpy as np\n",
    "import matplotlib.pyplot as plt\n",
    "import Oliver as o\n",
    "\n",
    "def from_x_to_matrix(x):\n",
    "    n = int((-3 + np.sqrt(9+8*x.size))//2)\n",
    "    k = x.size - n\n",
    "    A = np.zeros((n, n))\n",
    "    b = np.zeros(n)\n",
    "    \n",
    "    #Insert first k coefficients into matrix\n",
    "    end = 0\n",
    "    for j in range(n):\n",
    "        start = end\n",
    "        end = start + n-j\n",
    "        A[j, j:] = x[start:end]\n",
    "        A[j+1:,j] = A[j, j+1:]\n",
    "    b = x[-n:] #Insert last n coefficients into vector\n",
    "    return A, b\n",
    "\n",
    "# Calculate h for single point z\n",
    "def hi(x, zi):\n",
    "    A, b = from_x_to_matrix(x)\n",
    "    return zi.dot(A.dot(zi)) + b.dot(zi) - 1\n",
    "\n",
    "# Calculate residual r for single point z\n",
    "def r(x, zi, wi):\n",
    "    return np.maximum(wi * hi(x, zi), 0)\n",
    "\n",
    "#Calculate residual vector\n",
    "def R(x, Z, W):\n",
    "    m, n = Z.shape\n",
    "    R = np.zeros(m)\n",
    "    for i in range(R.size):\n",
    "        R[i] = r(x, Z[i], W[i])\n",
    "    return R\n",
    "\n",
    "# Calculate objective function\n",
    "def f(x, Z, W):\n",
    "    m, n = Z.shape\n",
    "    return np.sum(R(x, Z, W)**2)\n",
    "\n",
    "# Calculate gradient oh h for single point z\n",
    "def dhi(x, zi):\n",
    "    n = zi.size\n",
    "    k = n*(n+1)//2\n",
    "    dh = np.zeros(k+n)\n",
    "    end = 0\n",
    "    for j in range(n):\n",
    "        start = end\n",
    "        end = start + n-j\n",
    "        dh[start] = zi[j]**2\n",
    "        dh[start+1:end] = 2 * zi[j] * zi[start+1:end]\n",
    "    dh[-n:] = zi\n",
    "    return dh\n",
    "\n",
    "# Calculate gradient of residual r for  single point z\n",
    "# h is the hi value for the given point\n",
    "def dri(x, zi, wi, ri = None):\n",
    "    n = zi.size\n",
    "    dr = np.zeros(x.size)\n",
    "    if ri == None:\n",
    "        ri = r(x, zi, wi)\n",
    "    return (ri > 0) * dhi(x, zi) * wi\n",
    "\n",
    "# Calculate jacobian of residual vector R\n",
    "def jacobi(x, Z, W, h = None):\n",
    "    m, n = Z.shape\n",
    "    J = np.zeros((m, x.size))\n",
    "    for i in range(m):\n",
    "        J[i] = dri(x, Z[i], W[i], h)\n",
    "    return J\n",
    "\n",
    "# Calculate gradient of objective function\n",
    "def df(x, Z, W, h = None):\n",
    "    return 2 * (jacobi(x, Z, W, h).T).dot(R(x, Z, W))"
   ]
  },
  {
   "cell_type": "code",
   "execution_count": 2,
   "metadata": {},
   "outputs": [
    {
     "name": "stdout",
     "output_type": "stream",
     "text": [
      "Z: \n",
      " [[0 0]\n",
      " [0 1]\n",
      " [0 2]\n",
      " [0 3]\n",
      " [0 4]]\n",
      "W: \n",
      " [1 1 1 1 1]\n"
     ]
    }
   ],
   "source": [
    "# x = np.array((1, 0, 0.25, 1, 0))\n",
    "x = np.array((2, 3, 0.25, 3, 2))\n",
    "Z = np.array((0, 0, 0, 1, 0, 2, 0, 3, 0, 4)).reshape(5, 2)\n",
    "# Z = np.array((0,0, 1, 0, 2, 0, 3, 0, 4, 0)).reshape(5, 2)\n",
    "# Z = np.array((0, 0, 1, 1, 2, 2, 3, 3, 4, 4)).reshape(5,2)\n",
    "# Z = np.array((2, 0, 2, 1, 2, 2, 2, 3, 2, 4)).reshape(5, 2)\n",
    "W = np.array((1, 1, 1, 1, 1)) \n",
    "print('Z: \\n', Z)\n",
    "print('W: \\n', W)\n",
    "m,n = Z.shape"
   ]
  },
  {
   "cell_type": "code",
   "execution_count": 3,
   "metadata": {},
   "outputs": [
    {
     "name": "stdout",
     "output_type": "stream",
     "text": [
      "Z: \n",
      " [[-1.12537148 -1.53093876]\n",
      " [ 1.26409113  0.07241121]\n",
      " [ 1.19898056 -1.02371318]\n",
      " [-2.40896793  1.50787453]\n",
      " [-0.51403418  0.28590508]]\n",
      "W: \n",
      " [ 1. -1.  1.  1.  1.]\n"
     ]
    },
    {
     "data": {
      "text/plain": [
       "(array([[ 1.48966763, -0.94527873],\n",
       "        [-0.94527873,  0.86518035]]), array([ 0.32679786,  0.2774353 ]))"
      ]
     },
     "execution_count": 3,
     "metadata": {},
     "output_type": "execute_result"
    }
   ],
   "source": [
    "Z = 2 * np.random.randn(5*2).reshape(5,2)\n",
    "W = np.random.choice([-1.0, 1.0], 5)\n",
    "x = np.random.randn(5)\n",
    "print('Z: \\n', Z)\n",
    "print('W: \\n', W)\n",
    "from_x_to_matrix(x)"
   ]
  },
  {
   "cell_type": "code",
   "execution_count": 4,
   "metadata": {},
   "outputs": [
    {
     "data": {
      "text/plain": [
       "array([[ 0.        ,  0.        ,  0.        , -0.        , -0.        ],\n",
       "       [-0.        , -0.        , -0.        , -0.        , -0.        ],\n",
       "       [ 1.43755439, -2.4548244 ,  1.04798866,  1.19898056, -1.02371318],\n",
       "       [ 5.80312649, -7.26484277,  2.2736856 , -2.40896793,  1.50787453],\n",
       "       [ 0.        , -0.        ,  0.        , -0.        ,  0.        ]])"
      ]
     },
     "execution_count": 4,
     "metadata": {},
     "output_type": "execute_result"
    }
   ],
   "source": [
    "jacobi(x, Z, W)"
   ]
  },
  {
   "cell_type": "code",
   "execution_count": 5,
   "metadata": {},
   "outputs": [
    {
     "data": {
      "text/plain": [
       "array([[ 0.        ,  0.        ,  0.        ,  0.        ,  0.        ],\n",
       "       [ 0.        ,  0.        ,  0.        ,  0.        ,  0.        ],\n",
       "       [ 1.43755439, -2.4548244 ,  1.04798866,  1.19898056, -1.02371318],\n",
       "       [ 5.80312649, -7.26484277,  2.2736856 , -2.40896793,  1.50787453],\n",
       "       [ 0.        ,  0.        ,  0.        ,  0.        ,  0.        ]])"
      ]
     },
     "execution_count": 5,
     "metadata": {},
     "output_type": "execute_result"
    }
   ],
   "source": [
    "o.jacobi(Z, W, x, n , 2)"
   ]
  },
  {
   "cell_type": "code",
   "execution_count": 6,
   "metadata": {},
   "outputs": [
    {
     "data": {
      "text/plain": [
       "array([ 1.43755439, -2.4548244 ,  1.04798866,  1.19898056, -1.02371318])"
      ]
     },
     "execution_count": 6,
     "metadata": {},
     "output_type": "execute_result"
    }
   ],
   "source": [
    "dhi(x, Z[2])"
   ]
  },
  {
   "cell_type": "code",
   "execution_count": 7,
   "metadata": {},
   "outputs": [
    {
     "data": {
      "text/plain": [
       "array([ 1.43755439, -2.4548244 ,  1.04798866,  1.19898056, -1.02371318])"
      ]
     },
     "execution_count": 7,
     "metadata": {},
     "output_type": "execute_result"
    }
   ],
   "source": [
    "o.gradr(Z[2], W[2], x, n, 2)"
   ]
  },
  {
   "cell_type": "code",
   "execution_count": 8,
   "metadata": {},
   "outputs": [
    {
     "data": {
      "text/plain": [
       "array([  0.        ,   0.        ,   4.47648086,  16.11027121,   0.        ])"
      ]
     },
     "execution_count": 8,
     "metadata": {},
     "output_type": "execute_result"
    }
   ],
   "source": [
    "R(x, Z, W)"
   ]
  },
  {
   "cell_type": "code",
   "execution_count": 9,
   "metadata": {},
   "outputs": [
    {
     "data": {
      "text/plain": [
       "array([  0.        ,   0.        ,   4.47648086,  16.11027121,   0.        ])"
      ]
     },
     "execution_count": 9,
     "metadata": {},
     "output_type": "execute_result"
    }
   ],
   "source": [
    "o.residuals(Z, W, x, n, 2)"
   ]
  },
  {
   "cell_type": "code",
   "execution_count": 10,
   "metadata": {},
   "outputs": [
    {
     "data": {
      "text/plain": [
       "array([ 199.85025264, -256.05512359,   82.64198569,  -66.88382627,\n",
       "         39.41927039])"
      ]
     },
     "execution_count": 10,
     "metadata": {},
     "output_type": "execute_result"
    }
   ],
   "source": [
    "df(x, Z, W)"
   ]
  },
  {
   "cell_type": "code",
   "execution_count": 11,
   "metadata": {},
   "outputs": [
    {
     "data": {
      "text/plain": [
       "array([ 199.85025264, -256.05512359,   82.64198569,  -66.88382627,\n",
       "         39.41927039])"
      ]
     },
     "execution_count": 11,
     "metadata": {},
     "output_type": "execute_result"
    }
   ],
   "source": [
    "o.gradient(Z, W, x, n, 2)"
   ]
  },
  {
   "cell_type": "code",
   "execution_count": 12,
   "metadata": {},
   "outputs": [
    {
     "data": {
      "text/plain": [
       "0.0"
      ]
     },
     "execution_count": 12,
     "metadata": {},
     "output_type": "execute_result"
    }
   ],
   "source": [
    "r(x, Z[0], W[0])"
   ]
  },
  {
   "cell_type": "code",
   "execution_count": 13,
   "metadata": {},
   "outputs": [
    {
     "data": {
      "text/plain": [
       "-1.1353066188319278"
      ]
     },
     "execution_count": 13,
     "metadata": {},
     "output_type": "execute_result"
    }
   ],
   "source": [
    "hi(x, Z[0])"
   ]
  },
  {
   "cell_type": "code",
   "execution_count": 14,
   "metadata": {},
   "outputs": [
    {
     "data": {
      "text/plain": [
       "array([  0.        ,   0.        ,   4.47648086,  16.11027121,   0.        ])"
      ]
     },
     "execution_count": 14,
     "metadata": {},
     "output_type": "execute_result"
    }
   ],
   "source": [
    "R(x, Z, W)"
   ]
  },
  {
   "cell_type": "code",
   "execution_count": 15,
   "metadata": {},
   "outputs": [
    {
     "data": {
      "text/plain": [
       "279.57971935269046"
      ]
     },
     "execution_count": 15,
     "metadata": {},
     "output_type": "execute_result"
    }
   ],
   "source": [
    "f(x, Z, W)"
   ]
  },
  {
   "cell_type": "code",
   "execution_count": 16,
   "metadata": {},
   "outputs": [
    {
     "data": {
      "text/plain": [
       "array([ 199.85025264, -256.05512359,   82.64198569,  -66.88382627,\n",
       "         39.41927039])"
      ]
     },
     "execution_count": 16,
     "metadata": {},
     "output_type": "execute_result"
    }
   ],
   "source": [
    "df(x, Z, W)"
   ]
  },
  {
   "cell_type": "code",
   "execution_count": 17,
   "metadata": {},
   "outputs": [
    {
     "data": {
      "text/plain": [
       "(array([[ 1.48966763, -0.94527873],\n",
       "        [-0.94527873,  0.86518035]]), array([ 0.32679786,  0.2774353 ]))"
      ]
     },
     "execution_count": 17,
     "metadata": {},
     "output_type": "execute_result"
    }
   ],
   "source": [
    "from_x_to_matrix(x)"
   ]
  },
  {
   "cell_type": "code",
   "execution_count": 18,
   "metadata": {},
   "outputs": [
    {
     "name": "stdout",
     "output_type": "stream",
     "text": [
      "g = 3.193291e+00\n",
      "ep = 1.000000e+02, error = 6.651234e+03, g_app = 2.124252e+04\n",
      "ep = 1.000000e+01, error = 6.676848e+02, g_app = 2.135305e+03\n",
      "ep = 1.000000e+00, error = 6.395851e+01, g_app = 2.074314e+02\n",
      "ep = 1.000000e-01, error = 6.395851e+00, g_app = 2.361710e+01\n",
      "ep = 1.000000e-02, error = 6.395851e-01, g_app = 5.235672e+00\n",
      "ep = 1.000000e-03, error = 6.395851e-02, g_app = 3.397529e+00\n",
      "ep = 1.000000e-04, error = 6.395851e-03, g_app = 3.213714e+00\n",
      "ep = 1.000000e-05, error = 6.395836e-04, g_app = 3.195333e+00\n",
      "ep = 1.000000e-06, error = 6.395000e-05, g_app = 3.193495e+00\n",
      "ep = 1.000000e-07, error = 6.524330e-06, g_app = 3.193311e+00\n",
      "ep = 1.000000e-08, error = 1.540080e-06, g_app = 3.193296e+00\n"
     ]
    }
   ],
   "source": [
    "Z = 2 * np.random.randn(20*2).reshape(20,2)\n",
    "W = np.random.choice([-1.0, 1.0], 20)\n",
    "\n",
    "m, n = Z.shape\n",
    "k = n*(n+1)//2\n",
    "\n",
    "x = np.random.randn(n+k)\n",
    "p = np.random.randn(n+k)\n",
    "p = p/np.linalg.norm(p)\n",
    "f0 = f(x, Z, W)\n",
    "g = df(x, Z, W).dot(p)\n",
    "if g == 0:\n",
    "    print(\"p: \\n\", p)\n",
    "    print(df(x, Z, W))\n",
    "    \n",
    "else:\n",
    "    print(\"g = %e\" %g)\n",
    "    for ep in 10.0**np.arange(2, -9, -1):\n",
    "        g_app = (f(x+ep*p, Z, W)-f0)/ep\n",
    "        error = abs(g_app-g)/abs(g)\n",
    "        print('ep = %e, error = %e, g_app = %e' % (ep,error, g_app))"
   ]
  },
  {
   "cell_type": "markdown",
   "metadata": {
    "collapsed": true
   },
   "source": [
    "## Implementation "
   ]
  },
  {
   "cell_type": "code",
   "execution_count": 19,
   "metadata": {},
   "outputs": [],
   "source": [
    "def backtracking_line_search(f, gradf, p, x, Z, W):\n",
    "    ρ = 0.5\n",
    "    c = 0.05\n",
    "    α = 0.5\n",
    "    \n",
    "    ϕₖ = f(x + α * p, Z, W)\n",
    "    dF = gradf(x, Z, W)\n",
    "    it = 0\n",
    "    while (ϕₖ >= f(x, Z, W) + c * α * dF.dot(p) and it < 200):\n",
    "        α = ρ * α\n",
    "        ϕₖ = f(x + α * p, Z, W)\n",
    "        it += 1\n",
    "#     print(it)\n",
    "    return α"
   ]
  },
  {
   "cell_type": "code",
   "execution_count": 20,
   "metadata": {},
   "outputs": [],
   "source": [
    "def steepest_descent(f, grad, x0, Z, W, tol = 1e-3):\n",
    "    p = -df(x0, Z, W)\n",
    "    xₖ = x0\n",
    "    it = 0\n",
    "    while np.linalg.norm(p) > tol and it < 5000:\n",
    "        α = backtracking_line_search(f, grad, p, xₖ, Z, W)\n",
    "#         print(α)\n",
    "#         print(xₖ)\n",
    "#         print(\"f(x) =\", f(xₖ, Z, W))#, \"df(x) =\" , df(xₖ, Z ,W))\n",
    "\n",
    "        xₖ = xₖ + α * p\n",
    "        p = -df(xₖ, Z, W)\n",
    "        it += 1\n",
    "        if it % 500 == 0:\n",
    "            print(it)\n",
    "            print(α)\n",
    "            print(\"f(x) =\", f(xₖ, Z, W))\n",
    "    print(\"f(x) =\", f(xₖ, Z, W), \"df(x) =\" , df(xₖ, Z ,W))\n",
    "\n",
    "    return xₖ, it"
   ]
  },
  {
   "cell_type": "code",
   "execution_count": 21,
   "metadata": {
    "collapsed": true
   },
   "outputs": [],
   "source": [
    "def H(X, A, b):\n",
    "    return ((X @ A) * X).sum(axis = 1) + (b * X).sum(axis = 1) - 1"
   ]
  },
  {
   "cell_type": "code",
   "execution_count": 34,
   "metadata": {},
   "outputs": [
    {
     "name": "stdout",
     "output_type": "stream",
     "text": [
      "f(x) = 1.39567620685e-06 df(x) = [ -2.66212470e-05   1.51916600e-04  -6.79460924e-04   1.23241414e-04\n",
      "   6.42061073e-04]\n"
     ]
    },
    {
     "data": {
      "image/png": "[encoded data removed]",
      "text/plain": [
       "<matplotlib.figure.Figure at 0x7f260e7eb128>"
      ]
     },
     "metadata": {},
     "output_type": "display_data"
    },
    {
     "name": "stdout",
     "output_type": "stream",
     "text": [
      "R: \n",
      " [ 0.          0.          0.          0.00018552  0.          0.          0.\n",
      "  0.          0.          0.00116673]\n",
      "df: \n",
      " [ -2.66212470e-05   1.51916600e-04  -6.79460924e-04   1.23241414e-04\n",
      "   6.42061073e-04]\n",
      "f: \n",
      " 1.39567620685e-06\n",
      "Z: \n",
      " [[ 0.23105326  1.28417573]\n",
      " [-0.02746037  0.24882008]\n",
      " [-1.24327986  1.95053478]\n",
      " [-0.26657496  0.86962482]\n",
      " [-1.85996203  0.95973238]\n",
      " [ 1.52253546 -1.80268061]\n",
      " [-0.39984086  0.71441444]\n",
      " [ 0.39147202  0.94453142]\n",
      " [-1.28031791  0.27311683]\n",
      " [-0.01042613 -0.41343567]]\n"
     ]
    }
   ],
   "source": [
    "m, n = (10, 2)\n",
    "\n",
    "Z = np.random.randn(m*n).reshape(m, n)\n",
    "W = np.random.choice([-1.0, 1.0], m)\n",
    "x = np.array((1,0,1,0,0))\n",
    "#x = np.random.randn(5)\n",
    "# x[0] = 5\n",
    "# x[3] = 6\n",
    "\n",
    "a = steepest_descent(f, df, x, Z, W)[0]\n",
    "A, b = from_x_to_matrix(a)\n",
    "\n",
    "x = np.linspace(-5, 5, 101)\n",
    "y = np.linspace(-5, 5, 101)\n",
    "xx, yy = np.meshgrid(x, y)\n",
    "X = np.stack((xx.flatten(), yy.flatten())).T\n",
    "\n",
    "A, b = from_x_to_matrix(a)\n",
    "plt.figure()\n",
    "plt.contour(yy, xx, H(X, A, b).reshape(xx.shape).T, levels = [0])\n",
    "\n",
    "plt.plot(Z[W==1, 0], Z[W==1,1], 'o', color = 'b', label = \"+\")\n",
    "plt.plot(Z[W==-1, 0], Z[W==-1,1], 'x', color = 'r', label = \"-\")\n",
    "plt.legend()\n",
    "\n",
    "\n",
    "plt.show()\n",
    "print(\"R: \\n\", R(a, Z, W))\n",
    "print(\"df: \\n\", df(a, Z, W))\n",
    "print(\"f: \\n\",f(a, Z, W))\n",
    "print(\"Z: \\n\", Z)"
   ]
  },
  {
   "cell_type": "code",
   "execution_count": null,
   "metadata": {
    "collapsed": true
   },
   "outputs": [],
   "source": []
  },
  {
   "cell_type": "code",
   "execution_count": null,
   "metadata": {
    "collapsed": true
   },
   "outputs": [],
   "source": []
  }
 ],
 "metadata": {
  "kernelspec": {
   "display_name": "Python 3",
   "language": "python",
   "name": "python3"
  },
  "language_info": {
   "codemirror_mode": {
    "name": "ipython",
    "version": 3
   },
   "file_extension": ".py",
   "mimetype": "text/x-python",
   "name": "python",
   "nbconvert_exporter": "python",
   "pygments_lexer": "ipython3",
   "version": "3.6.3"
  }
 },
 "nbformat": 4,
 "nbformat_minor": 2
}
