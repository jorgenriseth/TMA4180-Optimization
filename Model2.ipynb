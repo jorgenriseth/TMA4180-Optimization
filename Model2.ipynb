{
 "cells": [
  {
   "cell_type": "code",
   "execution_count": 1,
   "metadata": {},
   "outputs": [],
   "source": [
    "import numpy as np\n",
    "import matplotlib.pyplot as plt\n",
    "import Oliver as o\n",
    "\n",
    "def from_x_to_matrix(x):\n",
    "    n = int((-3 + np.sqrt(9+8*x.size))//2)\n",
    "    k = x.size - n\n",
    "    A = np.zeros((n, n))\n",
    "    b = np.zeros(n)\n",
    "    \n",
    "    #Insert first k coefficients into matrix\n",
    "    end = 0\n",
    "    for j in range(n):\n",
    "        start = end\n",
    "        end = start + n-j\n",
    "        A[j, j:] = x[start:end]\n",
    "        A[j+1:,j] = A[j, j+1:]\n",
    "    b = x[-n:] #Insert last n coefficients into vector\n",
    "    return A, b\n",
    "\n",
    "# Calculate h for single point z\n",
    "def hi(x, zi):\n",
    "    A, b = from_x_to_matrix(x)\n",
    "    return zi.dot(A.dot(zi)) + b.dot(zi) - 1\n",
    "\n",
    "# Calculate residual r for single point z\n",
    "def r(x, zi, wi):\n",
    "    return np.maximum(wi * hi(x, zi), 0)\n",
    "\n",
    "#Calculate residual vector\n",
    "def R(x, Z, W):\n",
    "    m, n = Z.shape\n",
    "    R = np.zeros(m)\n",
    "    for i in range(R.size):\n",
    "        R[i] = r(x, Z[i], W[i])\n",
    "    return R\n",
    "\n",
    "# Calculate objective function\n",
    "def f(x, Z, W):\n",
    "    m, n = Z.shape\n",
    "    return np.sum(R(x, Z, W)**2)\n",
    "\n",
    "# Calculate gradient oh h for single point z\n",
    "def dhi(x, zi):\n",
    "    n = zi.size\n",
    "    k = n*(n+1)//2\n",
    "    dh = np.zeros(k+n)\n",
    "    end = 0\n",
    "    for j in range(n):\n",
    "        start = end\n",
    "        end = start + n-j\n",
    "        dh[start] = zi[j]**2\n",
    "        dh[start+1:end] = 2 * zi[j] * zi[start+1:end]\n",
    "    dh[-n:] = zi\n",
    "    return dh\n",
    "\n",
    "# Calculate gradient of residual r for  single point z\n",
    "# h is the hi value for the given point\n",
    "def dri(x, zi, wi, ri = None):\n",
    "    n = zi.size\n",
    "    dr = np.zeros(x.size)\n",
    "    if ri == None:\n",
    "        ri = r(x, zi, wi)\n",
    "    return (ri > 0) * dhi(x, zi) * wi\n",
    "\n",
    "# Calculate jacobian of residual vector R\n",
    "def jacobi(x, Z, W, h = None):\n",
    "    m, n = Z.shape\n",
    "    J = np.zeros((m, x.size))\n",
    "    for i in range(m):\n",
    "        J[i] = dri(x, Z[i], W[i], h)\n",
    "    return J\n",
    "\n",
    "# Calculate gradient of objective function\n",
    "def df(x, Z, W, h = None):\n",
    "    return 2 * (jacobi(x, Z, W, h).T).dot(R(x, Z, W))"
   ]
  },
  {
   "cell_type": "code",
   "execution_count": 2,
   "metadata": {},
   "outputs": [
    {
     "name": "stdout",
     "output_type": "stream",
     "text": [
      "Z: \n",
      " [[0 0]\n",
      " [0 1]\n",
      " [0 2]\n",
      " [0 3]\n",
      " [0 4]]\n",
      "W: \n",
      " [1 1 1 1 1]\n"
     ]
    }
   ],
   "source": [
    "# x = np.array((1, 0, 0.25, 1, 0))\n",
    "x = np.array((2, 3, 0.25, 3, 2))\n",
    "Z = np.array((0, 0, 0, 1, 0, 2, 0, 3, 0, 4)).reshape(5, 2)\n",
    "# Z = np.array((0,0, 1, 0, 2, 0, 3, 0, 4, 0)).reshape(5, 2)\n",
    "# Z = np.array((0, 0, 1, 1, 2, 2, 3, 3, 4, 4)).reshape(5,2)\n",
    "# Z = np.array((2, 0, 2, 1, 2, 2, 2, 3, 2, 4)).reshape(5, 2)\n",
    "W = np.array((1, 1, 1, 1, 1)) \n",
    "print('Z: \\n', Z)\n",
    "print('W: \\n', W)\n",
    "m,n = Z.shape"
   ]
  },
  {
   "cell_type": "code",
   "execution_count": 3,
   "metadata": {},
   "outputs": [
    {
     "name": "stdout",
     "output_type": "stream",
     "text": [
      "Z: \n",
      " [[ 1.60682176  0.7755585 ]\n",
      " [ 0.51502077  2.50721538]\n",
      " [-0.34413295  3.17218173]\n",
      " [ 0.87489856 -0.64510557]\n",
      " [-0.67903178 -2.48876823]]\n",
      "W: \n",
      " [-1.  1. -1. -1.  1.]\n"
     ]
    },
    {
     "data": {
      "text/plain": [
       "(array([[-1.61416428, -0.95499172],\n",
       "        [-0.95499172, -0.51726041]]), array([ 2.06915579,  2.33912531]))"
      ]
     },
     "execution_count": 3,
     "metadata": {},
     "output_type": "execute_result"
    }
   ],
   "source": [
    "Z = 2 * np.random.randn(5*2).reshape(5,2)\n",
    "W = np.random.choice([-1.0, 1.0], 5)\n",
    "x = np.random.randn(5)\n",
    "print('Z: \\n', Z)\n",
    "print('W: \\n', W)\n",
    "from_x_to_matrix(x)"
   ]
  },
  {
   "cell_type": "code",
   "execution_count": 4,
   "metadata": {},
   "outputs": [
    {
     "data": {
      "text/plain": [
       "array([[-2.58187618, -2.49236855, -0.60149099, -1.60682176, -0.7755585 ],\n",
       "       [ 0.        ,  0.        ,  0.        ,  0.        ,  0.        ],\n",
       "       [-0.        ,  0.        , -0.        ,  0.        , -0.        ],\n",
       "       [-0.76544749,  1.12880387, -0.4161612 , -0.87489856,  0.64510557],\n",
       "       [ 0.        ,  0.        ,  0.        , -0.        , -0.        ]])"
      ]
     },
     "execution_count": 4,
     "metadata": {},
     "output_type": "execute_result"
    }
   ],
   "source": [
    "jacobi(x, Z, W)"
   ]
  },
  {
   "cell_type": "code",
   "execution_count": 5,
   "metadata": {},
   "outputs": [
    {
     "data": {
      "text/plain": [
       "array([[-2.58187618, -2.49236855, -0.60149099, -1.60682176, -0.7755585 ],\n",
       "       [ 0.        ,  0.        ,  0.        ,  0.        ,  0.        ],\n",
       "       [ 0.        ,  0.        ,  0.        ,  0.        ,  0.        ],\n",
       "       [-0.76544749,  1.12880387, -0.4161612 , -0.87489856,  0.64510557],\n",
       "       [ 0.        ,  0.        ,  0.        ,  0.        ,  0.        ]])"
      ]
     },
     "execution_count": 5,
     "metadata": {},
     "output_type": "execute_result"
    }
   ],
   "source": [
    "o.jacobi(Z, W, x, n , 2)"
   ]
  },
  {
   "cell_type": "code",
   "execution_count": 6,
   "metadata": {},
   "outputs": [
    {
     "data": {
      "text/plain": [
       "array([  0.11842749,  -2.18330454,  10.06273692,  -0.34413295,   3.17218173])"
      ]
     },
     "execution_count": 6,
     "metadata": {},
     "output_type": "execute_result"
    }
   ],
   "source": [
    "dhi(x, Z[2])"
   ]
  },
  {
   "cell_type": "code",
   "execution_count": 7,
   "metadata": {},
   "outputs": [
    {
     "data": {
      "text/plain": [
       "array([  0.11842749,  -2.18330454,  10.06273692,  -0.34413295,   3.17218173])"
      ]
     },
     "execution_count": 7,
     "metadata": {},
     "output_type": "execute_result"
    }
   ],
   "source": [
    "o.gradr(Z[2], W[2], x, n, 2)"
   ]
  },
  {
   "cell_type": "code",
   "execution_count": 8,
   "metadata": {},
   "outputs": [
    {
     "data": {
      "text/plain": [
       "array([ 2.71999805,  0.        ,  0.        ,  1.0715047 ,  0.        ])"
      ]
     },
     "execution_count": 8,
     "metadata": {},
     "output_type": "execute_result"
    }
   ],
   "source": [
    "R(x, Z, W)"
   ]
  },
  {
   "cell_type": "code",
   "execution_count": 9,
   "metadata": {},
   "outputs": [
    {
     "data": {
      "text/plain": [
       "array([ 2.71999805,  0.        ,  0.        ,  1.0715047 ,  0.        ])"
      ]
     },
     "execution_count": 9,
     "metadata": {},
     "output_type": "execute_result"
    }
   ],
   "source": [
    "o.residuals(Z, W, x, n, 2)"
   ]
  },
  {
   "cell_type": "code",
   "execution_count": 10,
   "metadata": {},
   "outputs": [
    {
     "data": {
      "text/plain": [
       "array([-15.68575752, -11.13943788,  -4.16394599, -10.61601997,  -2.8365679 ])"
      ]
     },
     "execution_count": 10,
     "metadata": {},
     "output_type": "execute_result"
    }
   ],
   "source": [
    "df(x, Z, W)"
   ]
  },
  {
   "cell_type": "code",
   "execution_count": 11,
   "metadata": {},
   "outputs": [
    {
     "data": {
      "text/plain": [
       "array([-15.68575752, -11.13943788,  -4.16394599, -10.61601997,  -2.8365679 ])"
      ]
     },
     "execution_count": 11,
     "metadata": {},
     "output_type": "execute_result"
    }
   ],
   "source": [
    "o.gradient(Z, W, x, n, 2)"
   ]
  },
  {
   "cell_type": "code",
   "execution_count": 12,
   "metadata": {},
   "outputs": [
    {
     "data": {
      "text/plain": [
       "2.719998050686498"
      ]
     },
     "execution_count": 12,
     "metadata": {},
     "output_type": "execute_result"
    }
   ],
   "source": [
    "r(x, Z[0], W[0])"
   ]
  },
  {
   "cell_type": "code",
   "execution_count": 13,
   "metadata": {},
   "outputs": [
    {
     "data": {
      "text/plain": [
       "-2.719998050686498"
      ]
     },
     "execution_count": 13,
     "metadata": {},
     "output_type": "execute_result"
    }
   ],
   "source": [
    "hi(x, Z[0])"
   ]
  },
  {
   "cell_type": "code",
   "execution_count": 14,
   "metadata": {},
   "outputs": [
    {
     "data": {
      "text/plain": [
       "array([ 2.71999805,  0.        ,  0.        ,  1.0715047 ,  0.        ])"
      ]
     },
     "execution_count": 14,
     "metadata": {},
     "output_type": "execute_result"
    }
   ],
   "source": [
    "R(x, Z, W)"
   ]
  },
  {
   "cell_type": "code",
   "execution_count": 15,
   "metadata": {},
   "outputs": [
    {
     "data": {
      "text/plain": [
       "8.5465117276260507"
      ]
     },
     "execution_count": 15,
     "metadata": {},
     "output_type": "execute_result"
    }
   ],
   "source": [
    "f(x, Z, W)"
   ]
  },
  {
   "cell_type": "code",
   "execution_count": 16,
   "metadata": {},
   "outputs": [
    {
     "data": {
      "text/plain": [
       "array([-15.68575752, -11.13943788,  -4.16394599, -10.61601997,  -2.8365679 ])"
      ]
     },
     "execution_count": 16,
     "metadata": {},
     "output_type": "execute_result"
    }
   ],
   "source": [
    "df(x, Z, W)"
   ]
  },
  {
   "cell_type": "code",
   "execution_count": 17,
   "metadata": {},
   "outputs": [
    {
     "data": {
      "text/plain": [
       "(array([[-1.61416428, -0.95499172],\n",
       "        [-0.95499172, -0.51726041]]), array([ 2.06915579,  2.33912531]))"
      ]
     },
     "execution_count": 17,
     "metadata": {},
     "output_type": "execute_result"
    }
   ],
   "source": [
    "from_x_to_matrix(x)"
   ]
  },
  {
   "cell_type": "code",
   "execution_count": 18,
   "metadata": {},
   "outputs": [
    {
     "name": "stdout",
     "output_type": "stream",
     "text": [
      "g = -4.252855e+02\n",
      "ep = 1.000000e+02, error = 7.755577e+01, g_app = 3.255806e+04\n",
      "ep = 1.000000e+01, error = 5.395506e+00, g_app = 1.869345e+03\n",
      "ep = 1.000000e+00, error = 2.093496e-01, g_app = -3.362522e+02\n",
      "ep = 1.000000e-01, error = 2.126593e-02, g_app = -4.162414e+02\n",
      "ep = 1.000000e-02, error = 2.126593e-03, g_app = -4.243811e+02\n",
      "ep = 1.000000e-03, error = 2.126593e-04, g_app = -4.251951e+02\n",
      "ep = 1.000000e-04, error = 2.126594e-05, g_app = -4.252765e+02\n",
      "ep = 1.000000e-05, error = 2.126623e-06, g_app = -4.252846e+02\n",
      "ep = 1.000000e-06, error = 2.127274e-07, g_app = -4.252854e+02\n",
      "ep = 1.000000e-07, error = 2.212900e-08, g_app = -4.252855e+02\n",
      "ep = 1.000000e-08, error = 4.886089e-08, g_app = -4.252855e+02\n"
     ]
    }
   ],
   "source": [
    "Z = 2 * np.random.randn(20*2).reshape(20,2)\n",
    "W = np.random.choice([-1.0, 1.0], 20)\n",
    "\n",
    "m, n = Z.shape\n",
    "k = n*(n+1)//2\n",
    "\n",
    "x = np.random.randn(n+k)\n",
    "p = np.random.randn(n+k)\n",
    "p = p/np.linalg.norm(p)\n",
    "f0 = f(x, Z, W)\n",
    "g = df(x, Z, W).dot(p)\n",
    "if g == 0:\n",
    "    print(\"p: \\n\", p)\n",
    "    print(df(x, Z, W))\n",
    "    \n",
    "else:\n",
    "    print(\"g = %e\" %g)\n",
    "    for ep in 10.0**np.arange(2, -9, -1):\n",
    "        g_app = (f(x+ep*p, Z, W)-f0)/ep\n",
    "        error = abs(g_app-g)/abs(g)\n",
    "        print('ep = %e, error = %e, g_app = %e' % (ep,error, g_app))"
   ]
  },
  {
   "cell_type": "markdown",
   "metadata": {
    "collapsed": true
   },
   "source": [
    "## Implementation "
   ]
  },
  {
   "cell_type": "code",
   "execution_count": 19,
   "metadata": {},
   "outputs": [],
   "source": [
    "def backtracking_line_search(f, gradf, p, x, Z, W):\n",
    "    ρ = 0.5\n",
    "    c = 0.05\n",
    "    α = 10\n",
    "    \n",
    "    ϕₖ = f(x + α * p, Z, W)\n",
    "    dF = gradf(x, Z, W)\n",
    "    it = 0\n",
    "    while (ϕₖ >= f(x, Z, W) + c * α * dF.dot(p) and it < 200):\n",
    "        α = ρ * α\n",
    "        ϕₖ = f(x + α * p, Z, W)\n",
    "        it += 1\n",
    "#     print(it)\n",
    "    return α"
   ]
  },
  {
   "cell_type": "code",
   "execution_count": 26,
   "metadata": {},
   "outputs": [],
   "source": [
    "def steepest_descent(f, grad, x0, Z, W, tol = 1e-3):\n",
    "    p = -df(x0, Z, W)\n",
    "    xₖ = x0\n",
    "    it = 0\n",
    "    while np.linalg.norm(p) > tol and it < 3000:\n",
    "        α = backtracking_line_search(f, grad, p, xₖ, Z, W)\n",
    "#         print(α)\n",
    "#         print(xₖ)\n",
    "#         print(\"f(x) =\", f(xₖ, Z, W))#, \"df(x) =\" , df(xₖ, Z ,W))\n",
    "\n",
    "        xₖ = xₖ + α * p\n",
    "        p = -df(xₖ, Z, W)\n",
    "        it += 1\n",
    "        if it % 100 == 0:\n",
    "            print(it)\n",
    "            print(α)\n",
    "            print(\"f(x) =\", f(xₖ, Z, W))\n",
    "    print(\"f(x) =\", f(xₖ, Z, W), \"df(x) =\" , df(xₖ, Z ,W))\n",
    "\n",
    "    return x"
   ]
  },
  {
   "cell_type": "code",
   "execution_count": 27,
   "metadata": {
    "collapsed": true
   },
   "outputs": [],
   "source": [
    "Z = 2 * np.random.randn(20*2).reshape(20,2)\n",
    "W = np.random.choice([-1.0, 1.0], 20)\n",
    "x = np.random.randn(5)"
   ]
  },
  {
   "cell_type": "code",
   "execution_count": null,
   "metadata": {
    "scrolled": false
   },
   "outputs": [
    {
     "name": "stdout",
     "output_type": "stream",
     "text": [
      "100\n",
      "0.0006103515625\n",
      "f(x) = 0.242142771208\n",
      "200\n",
      "0.009765625\n",
      "f(x) = 0.211941914779\n",
      "300\n",
      "0.0048828125\n",
      "f(x) = 0.210002320448\n",
      "400\n",
      "0.0006103515625\n",
      "f(x) = 0.209795361457\n"
     ]
    }
   ],
   "source": [
    "steepest_descent(f, df, x, Z, W)"
   ]
  },
  {
   "cell_type": "code",
   "execution_count": 23,
   "metadata": {},
   "outputs": [
    {
     "data": {
      "text/plain": [
       "array([-18350.33368713, -32485.06108226, -22150.0780761 ,  -1981.04328085,\n",
       "        -2306.44374992])"
      ]
     },
     "execution_count": 23,
     "metadata": {},
     "output_type": "execute_result"
    }
   ],
   "source": [
    "df(x+100*p, Z, W)"
   ]
  },
  {
   "cell_type": "code",
   "execution_count": 24,
   "metadata": {},
   "outputs": [
    {
     "ename": "NameError",
     "evalue": "name 'N' is not defined",
     "output_type": "error",
     "traceback": [
      "\u001b[0;31m---------------------------------------------------------------------------\u001b[0m",
      "\u001b[0;31mNameError\u001b[0m                                 Traceback (most recent call last)",
      "\u001b[0;32m<ipython-input-24-5d4146d284d8>\u001b[0m in \u001b[0;36m<module>\u001b[0;34m()\u001b[0m\n\u001b[0;32m----> 1\u001b[0;31m \u001b[0mo\u001b[0m\u001b[0;34m.\u001b[0m\u001b[0msteepesDescent\u001b[0m\u001b[0;34m(\u001b[0m\u001b[0mx\u001b[0m\u001b[0;34m,\u001b[0m\u001b[0mZ\u001b[0m\u001b[0;34m,\u001b[0m\u001b[0mW\u001b[0m\u001b[0;34m,\u001b[0m\u001b[0;36m2\u001b[0m\u001b[0;34m,\u001b[0m \u001b[0;36m2\u001b[0m\u001b[0;34m)\u001b[0m\u001b[0;34m\u001b[0m\u001b[0m\n\u001b[0m",
      "\u001b[0;32m~/tma4180-optimization-project1/Oliver.py\u001b[0m in \u001b[0;36msteepesDescent\u001b[0;34m(x0, z, w, n, model)\u001b[0m\n\u001b[1;32m    218\u001b[0m         \u001b[0ma_k\u001b[0m \u001b[0;34m=\u001b[0m \u001b[0mbacktrackingLineSearch\u001b[0m\u001b[0;34m(\u001b[0m\u001b[0mz\u001b[0m\u001b[0;34m,\u001b[0m\u001b[0mw\u001b[0m\u001b[0;34m,\u001b[0m\u001b[0mx\u001b[0m\u001b[0;34m,\u001b[0m\u001b[0mp\u001b[0m\u001b[0;34m,\u001b[0m\u001b[0mn\u001b[0m\u001b[0;34m,\u001b[0m\u001b[0mmodel\u001b[0m\u001b[0;34m,\u001b[0m\u001b[0mgrad\u001b[0m\u001b[0;34m)\u001b[0m\u001b[0;34m\u001b[0m\u001b[0m\n\u001b[1;32m    219\u001b[0m         \u001b[0mx\u001b[0m \u001b[0;34m+=\u001b[0m \u001b[0ma_k\u001b[0m\u001b[0;34m*\u001b[0m\u001b[0mp\u001b[0m\u001b[0;34m\u001b[0m\u001b[0m\n\u001b[0;32m--> 220\u001b[0;31m         \u001b[0mA\u001b[0m\u001b[0;34m,\u001b[0m\u001b[0mc\u001b[0m \u001b[0;34m=\u001b[0m \u001b[0mconstruct_A_and_c\u001b[0m\u001b[0;34m(\u001b[0m\u001b[0mx\u001b[0m\u001b[0;34m,\u001b[0m\u001b[0mN\u001b[0m\u001b[0;34m)\u001b[0m\u001b[0;34m\u001b[0m\u001b[0m\n\u001b[0m\u001b[1;32m    221\u001b[0m         \u001b[0mgrad\u001b[0m \u001b[0;34m=\u001b[0m \u001b[0mgradient\u001b[0m\u001b[0;34m(\u001b[0m\u001b[0mz\u001b[0m\u001b[0;34m,\u001b[0m\u001b[0mw\u001b[0m\u001b[0;34m,\u001b[0m\u001b[0mx\u001b[0m\u001b[0;34m,\u001b[0m\u001b[0mn\u001b[0m\u001b[0;34m,\u001b[0m\u001b[0mmodel\u001b[0m\u001b[0;34m)\u001b[0m\u001b[0;34m\u001b[0m\u001b[0m\n\u001b[1;32m    222\u001b[0m         \u001b[0mp\u001b[0m \u001b[0;34m=\u001b[0m \u001b[0;34m-\u001b[0m\u001b[0mgrad\u001b[0m\u001b[0;34m\u001b[0m\u001b[0m\n",
      "\u001b[0;31mNameError\u001b[0m: name 'N' is not defined"
     ]
    }
   ],
   "source": [
    "o.steepesDescent(x,Z,W,2, 2)"
   ]
  },
  {
   "cell_type": "code",
   "execution_count": null,
   "metadata": {},
   "outputs": [],
   "source": [
    "Z = 2 * np.random.randn(20*2).reshape(20,2)\n",
    "W = np.random.choice([-1.0, 1.0], 20)\n",
    "x = np.random.randn(5)*3\n",
    "backtracking_line_search(f, df, p, x, Z, W)"
   ]
  },
  {
   "cell_type": "code",
   "execution_count": null,
   "metadata": {},
   "outputs": [],
   "source": [
    "o.steepestDescent(x, Z, W, f, df)"
   ]
  }
 ],
 "metadata": {
  "kernelspec": {
   "display_name": "Python 3",
   "language": "python",
   "name": "python3"
  },
  "language_info": {
   "codemirror_mode": {
    "name": "ipython",
    "version": 3
   },
   "file_extension": ".py",
   "mimetype": "text/x-python",
   "name": "python",
   "nbconvert_exporter": "python",
   "pygments_lexer": "ipython3",
   "version": "3.6.3"
  }
 },
 "nbformat": 4,
 "nbformat_minor": 2
}
