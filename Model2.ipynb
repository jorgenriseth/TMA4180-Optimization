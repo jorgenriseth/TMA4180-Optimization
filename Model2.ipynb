{
 "cells": [
  {
   "cell_type": "code",
   "execution_count": 1,
   "metadata": {
    "collapsed": true
   },
   "outputs": [],
   "source": [
    "import numpy as np\n",
    "import matplotlib.pyplot as plt"
   ]
  },
  {
   "cell_type": "code",
   "execution_count": 4,
   "metadata": {},
   "outputs": [],
   "source": [
    "def from_x_to_matrix(x):\n",
    "    n = int((-3 + np.sqrt(9+8*x.size))//2)\n",
    "    k = x.size - n\n",
    "    A = np.zeros((n, n))\n",
    "    b = np.zeros(n)\n",
    "    \n",
    "    #Insert first k coefficients into matrix\n",
    "    end = 0\n",
    "    for j in range(n):\n",
    "        start = end\n",
    "        end = start + n-j\n",
    "        A[j, j:] = x[start:end]\n",
    "        A[j+1:,j] = A[j, j+1:]\n",
    "    b = x[-n:] #Insert last n coefficients into vector\n",
    "    return A, b\n",
    "\n",
    "# Calculate h for single point z\n",
    "def hi(x, zi):\n",
    "    A, b = from_x_to_matrix(x)\n",
    "    return zi.dot(A.dot(zi)) + b.dot(zi) - 1\n",
    "\n",
    "# Calculate residual r for single point z\n",
    "def r(x, zi, wi):\n",
    "    return np.maximum(wi * hi(x, zi), 0)\n",
    "\n",
    "#Calculate residual vector\n",
    "def R(x, Z, W):\n",
    "    m, n = Z.shape\n",
    "    R = np.zeros(m)\n",
    "    for i in range(R.size):\n",
    "        R[i] = r(x, Z[i], W[i])\n",
    "    return R\n",
    "\n",
    "# Calculate objective function\n",
    "def f(x, Z, W):\n",
    "    m, n = Z.shape\n",
    "    return np.sum(R(x, Z, W)**2)\n",
    "\n",
    "# Calculate gradient oh h for single point z\n",
    "def dhi(x, zi):\n",
    "    n = zi.size\n",
    "    k = n*(n+1)//2\n",
    "    dh = np.zeros(k+n)\n",
    "    end = 0\n",
    "    for j in range(n):\n",
    "        start = end\n",
    "        end = start + n-j\n",
    "        dh[start] = zi[j]**2\n",
    "        dh[start+1:end] = 2 * zi[j] * zi[start+1:end]\n",
    "    dh[-n:] = zi\n",
    "    return dh\n",
    "\n",
    "# Calculate gradient of residual r for  single point z\n",
    "# h is the hi value for the given point\n",
    "def dri(x, zi, wi, h = None):\n",
    "    n = zi.size\n",
    "    dr = np.zeros(x.size)\n",
    "    if h == None:\n",
    "        h = hi(x, zi)\n",
    "    return (h > 0) * dhi(x, zi) * wi\n",
    "\n",
    "# Calculate jacobian of residual vector R\n",
    "def jacobi(x, Z, W, h = None):\n",
    "    m, n = Z.shape\n",
    "    J = np.zeros((m, x.size))\n",
    "    for i in range(m):\n",
    "        J[i] = dri(x, Z[i], W[i], h)\n",
    "    return J\n",
    "\n",
    "# Calculate gradient of objective function\n",
    "def df(x, Z, W, h = None):\n",
    "    return 2 * (jacobi(x, Z, W, h).T).dot(R(x, Z, W))"
   ]
  },
  {
   "cell_type": "code",
   "execution_count": 5,
   "metadata": {},
   "outputs": [
    {
     "name": "stdout",
     "output_type": "stream",
     "text": [
      "Z: \n",
      " [[0 0]\n",
      " [0 1]\n",
      " [0 2]\n",
      " [0 3]\n",
      " [0 4]]\n",
      "W: \n",
      " [1 1 1 1 1]\n"
     ]
    }
   ],
   "source": [
    "x = np.array((1, 0, 0.25, 0, 0))\n",
    "Z = np.array((0, 0, 0, 1, 0, 2, 0, 3, 0, 4)).reshape(5, 2)\n",
    "# Z = np.array((0,0, 1, 0, 2, 0, 3, 0, 4, 0)).reshape(5, 2)\n",
    "# Z = np.array((0, 0, 1, 1, 2, 2, 3, 3, 4, 4)).reshape(5,2)\n",
    "# Z = np.array((2, 0, 2, 1, 2, 2, 2, 3, 2, 4)).reshape(5, 2)\n",
    "W = np.array((1, 1, 1, 1, 1)) \n",
    "print('Z: \\n', Z)\n",
    "print('W: \\n', W)"
   ]
  },
  {
   "cell_type": "code",
   "execution_count": 6,
   "metadata": {},
   "outputs": [
    {
     "name": "stdout",
     "output_type": "stream",
     "text": [
      "[ 0.  0.  0.  0.  0.]\n",
      "[ 0.  0.  0.  0.  0.]\n",
      "[ 0.  0.  1.  0.  1.]\n",
      "[ 0.  0.  0.  0.  0.]\n",
      "[ 0.  0.  4.  0.  2.]\n",
      "[ 0.  0.  0.  0.  0.]\n",
      "[ 0.  0.  9.  0.  3.]\n",
      "[ 0.  0.  9.  0.  3.]\n",
      "[  0.   0.  16.   0.   4.]\n",
      "[  0.   0.  16.   0.   4.]\n"
     ]
    }
   ],
   "source": [
    "for i in range(5):\n",
    "    print(dhi(x, Z[i]))\n",
    "    print(dri(x, Z[i], W[i]))"
   ]
  },
  {
   "cell_type": "code",
   "execution_count": 7,
   "metadata": {},
   "outputs": [
    {
     "name": "stdout",
     "output_type": "stream",
     "text": [
      "[[  0.   0.   0.   0.   0.]\n",
      " [  0.   0.   0.   0.   0.]\n",
      " [  0.   0.   0.   0.   0.]\n",
      " [  0.   0.   9.   0.   3.]\n",
      " [  0.   0.  16.   0.   4.]]\n",
      "[   0.     0.   118.5    0.    31.5]\n"
     ]
    }
   ],
   "source": [
    "print(jacobi(x, Z, W))\n",
    "print(df(x, Z, W))"
   ]
  },
  {
   "cell_type": "code",
   "execution_count": 8,
   "metadata": {},
   "outputs": [
    {
     "data": {
      "text/plain": [
       "0.0"
      ]
     },
     "execution_count": 8,
     "metadata": {},
     "output_type": "execute_result"
    }
   ],
   "source": [
    "r(x, Z[0], W[0])"
   ]
  },
  {
   "cell_type": "code",
   "execution_count": 9,
   "metadata": {},
   "outputs": [
    {
     "data": {
      "text/plain": [
       "-1.0"
      ]
     },
     "execution_count": 9,
     "metadata": {},
     "output_type": "execute_result"
    }
   ],
   "source": [
    "hi(x, Z[0])"
   ]
  },
  {
   "cell_type": "code",
   "execution_count": 10,
   "metadata": {},
   "outputs": [
    {
     "data": {
      "text/plain": [
       "array([ 0.  ,  0.  ,  0.  ,  1.25,  3.  ])"
      ]
     },
     "execution_count": 10,
     "metadata": {},
     "output_type": "execute_result"
    }
   ],
   "source": [
    "R(x, Z, W)"
   ]
  },
  {
   "cell_type": "code",
   "execution_count": 11,
   "metadata": {},
   "outputs": [
    {
     "data": {
      "text/plain": [
       "10.5625"
      ]
     },
     "execution_count": 11,
     "metadata": {},
     "output_type": "execute_result"
    }
   ],
   "source": [
    "f(x, Z, W)"
   ]
  },
  {
   "cell_type": "code",
   "execution_count": 12,
   "metadata": {},
   "outputs": [
    {
     "data": {
      "text/plain": [
       "array([   0. ,    0. ,  118.5,    0. ,   31.5])"
      ]
     },
     "execution_count": 12,
     "metadata": {},
     "output_type": "execute_result"
    }
   ],
   "source": [
    "df(x, Z, W)"
   ]
  },
  {
   "cell_type": "code",
   "execution_count": 13,
   "metadata": {},
   "outputs": [
    {
     "data": {
      "text/plain": [
       "(array([[ 1.  ,  0.  ],\n",
       "        [ 0.  ,  0.25]]), array([ 0.,  0.]))"
      ]
     },
     "execution_count": 13,
     "metadata": {},
     "output_type": "execute_result"
    }
   ],
   "source": [
    "from_x_to_matrix(x)"
   ]
  },
  {
   "cell_type": "code",
   "execution_count": 32,
   "metadata": {},
   "outputs": [
    {
     "name": "stdout",
     "output_type": "stream",
     "text": [
      "g = -5.831224e+02\n",
      "ep = 1.000000e+02, error = 9.811000e-01, g_app = -1.102099e+01\n",
      "ep = 1.000000e+01, error = 8.110003e-01, g_app = -1.102099e+02\n",
      "ep = 1.000000e+00, error = 1.325716e-01, g_app = -5.058169e+02\n",
      "ep = 1.000000e-01, error = 1.325716e-02, g_app = -5.753918e+02\n",
      "ep = 1.000000e-02, error = 1.325716e-03, g_app = -5.823493e+02\n",
      "ep = 1.000000e-03, error = 1.325716e-04, g_app = -5.830451e+02\n",
      "ep = 1.000000e-04, error = 1.325716e-05, g_app = -5.831146e+02\n",
      "ep = 1.000000e-05, error = 1.325775e-06, g_app = -5.831216e+02\n",
      "ep = 1.000000e-06, error = 1.326842e-07, g_app = -5.831223e+02\n",
      "ep = 1.000000e-07, error = 1.336731e-08, g_app = -5.831224e+02\n",
      "ep = 1.000000e-08, error = 1.336731e-08, g_app = -5.831224e+02\n"
     ]
    }
   ],
   "source": [
    "m, n = Z.shape\n",
    "k = n*(n+1)//2\n",
    "\n",
    "x = np.random.randn(n+k)\n",
    "p = np.random.randn(n+k)\n",
    "p = p/np.linalg.norm(p)\n",
    "f0 = f(x, Z, W)\n",
    "g = df(x, Z, W).dot(p)\n",
    "if g == 0:\n",
    "    print(\"p: \\n\", p)\n",
    "    print(df(x, Z, W))\n",
    "    \n",
    "else:\n",
    "    print(\"g = %e\" %g)\n",
    "    for ep in 10.0**np.arange(2, -9, -1):\n",
    "        g_app = (f(x+ep*p, Z, W)-f0)/ep\n",
    "        error = abs(g_app-g)/abs(g)\n",
    "        print('ep = %e, error = %e, g_app = %e' % (ep,error, g_app))"
   ]
  }
 ],
 "metadata": {
  "kernelspec": {
   "display_name": "Python 3",
   "language": "python",
   "name": "python3"
  },
  "language_info": {
   "codemirror_mode": {
    "name": "ipython",
    "version": 3
   },
   "file_extension": ".py",
   "mimetype": "text/x-python",
   "name": "python",
   "nbconvert_exporter": "python",
   "pygments_lexer": "ipython3",
   "version": "3.6.3"
  }
 },
 "nbformat": 4,
 "nbformat_minor": 2
}
