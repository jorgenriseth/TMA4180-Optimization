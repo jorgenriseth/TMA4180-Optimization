{
 "cells": [
  {
   "cell_type": "code",
   "execution_count": 174,
   "metadata": {},
   "outputs": [],
   "source": [
    "import importlib\n",
    "import numpy as np\n",
    "import matplotlib.pyplot as plt"
   ]
  },
  {
   "cell_type": "code",
   "execution_count": 189,
   "metadata": {},
   "outputs": [
    {
     "data": {
      "text/plain": [
       "<module 'Model2' from '/home/jorgen/optimering/Model2.py'>"
      ]
     },
     "execution_count": 189,
     "metadata": {},
     "output_type": "execute_result"
    }
   ],
   "source": [
    "import Util as u\n",
    "import Model2 as m2\n",
    "\n",
    "importlib.reload(u)\n",
    "importlib.reload(m2)"
   ]
  },
  {
   "cell_type": "code",
   "execution_count": 226,
   "metadata": {},
   "outputs": [
    {
     "name": "stdout",
     "output_type": "stream",
     "text": [
      "[0.2264988  0.22971583 0.51915776 0.47723429]\n",
      "[False False  True  True]\n"
     ]
    }
   ],
   "source": [
    "m, n = 4, 2\n",
    "\n",
    "x, Z, W = u.generate_random(m, n)\n",
    "roll = np.random.rand(m)\n",
    "print(roll)\n",
    "flips = roll > 0.3\n",
    "print(flips)"
   ]
  },
  {
   "cell_type": "code",
   "execution_count": 227,
   "metadata": {},
   "outputs": [
    {
     "name": "stdout",
     "output_type": "stream",
     "text": [
      "[-1. -1.  1.  1.]\n",
      "[False False  True  True]\n",
      "[ True  True False False]\n",
      "\n",
      "[False False  True  True]\n",
      "[False False  True  True]\n",
      "[False False False False]\n",
      "\n",
      "[False False False False]\n"
     ]
    }
   ],
   "source": [
    "print(W)\n",
    "print(W == 1)\n",
    "print(W == -1)\n",
    "print()\n",
    "print(flips)\n",
    "print(np.logical_and(flips, W == 1))\n",
    "print(np.logical_and(flips, W == -1))\n",
    "print()\n",
    "print(np.logical_and(np.logical_and(flips, W == 1), np.logical_not(flips, W == -1)))"
   ]
  },
  {
   "cell_type": "code",
   "execution_count": 186,
   "metadata": {},
   "outputs": [
    {
     "data": {
      "text/plain": [
       "array([ 1, -1, -1,  1,  1,  1,  1,  1, -1,  1, -1,  1, -1,  1, -1, -1, -1,\n",
       "        1, -1,  1, -1, -1,  1, -1,  1, -1,  1,  1, -1,  1])"
      ]
     },
     "execution_count": 186,
     "metadata": {},
     "output_type": "execute_result"
    }
   ],
   "source": [
    "roll = np.random.rand()"
   ]
  },
  {
   "cell_type": "code",
   "execution_count": 185,
   "metadata": {},
   "outputs": [
    {
     "data": {
      "image/png": "[encoded data removed]",
      "text/plain": [
       "<Figure size 432x288 with 1 Axes>"
      ]
     },
     "metadata": {},
     "output_type": "display_data"
    }
   ],
   "source": [
    "m, n = 30, 2\n",
    "\n",
    "x, Z, W = u.generate_test_set(m, n, m2.H, x_rand = False, misclass = False)\n",
    "A, b = u.from_x_to_matrix(x)\n",
    "\n",
    "fig = plt.figure()\n",
    "ax = fig.add_subplot(111)\n",
    "u.visualize(ax, A, b, Z, W, m2.H)\n",
    "plt.show()"
   ]
  }
 ],
 "metadata": {
  "kernelspec": {
   "display_name": "Python 3",
   "language": "python",
   "name": "python3"
  },
  "language_info": {
   "codemirror_mode": {
    "name": "ipython",
    "version": 3
   },
   "file_extension": ".py",
   "mimetype": "text/x-python",
   "name": "python",
   "nbconvert_exporter": "python",
   "pygments_lexer": "ipython3",
   "version": "3.6.5"
  }
 },
 "nbformat": 4,
 "nbformat_minor": 2
}
