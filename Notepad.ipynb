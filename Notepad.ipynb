{
 "cells": [
  {
   "cell_type": "code",
   "execution_count": 1,
   "metadata": {},
   "outputs": [],
   "source": [
    "import importlib\n",
    "import numpy as np\n",
    "import matplotlib.pyplot as plt"
   ]
  },
  {
   "cell_type": "code",
   "execution_count": 10,
   "metadata": {},
   "outputs": [
    {
     "data": {
      "text/plain": [
       "<module 'Model2' from '/home/jorgen/optimering/Model2.py'>"
      ]
     },
     "execution_count": 10,
     "metadata": {},
     "output_type": "execute_result"
    }
   ],
   "source": [
    "import Util as u\n",
    "import Model2 as m2\n",
    "import algorithms as alg\n",
    "\n",
    "importlib.reload(u)\n",
    "importlib.reload(m2)"
   ]
  },
  {
   "cell_type": "code",
   "execution_count": 3,
   "metadata": {},
   "outputs": [
    {
     "name": "stdout",
     "output_type": "stream",
     "text": [
      "[0.55755249 0.10827655 0.03203359 0.33924969]\n",
      "[ True False False  True]\n"
     ]
    }
   ],
   "source": [
    "m, n = 4, 2\n",
    "\n",
    "x, Z, W = u.generate_random(m, n)\n",
    "roll = np.random.rand(m)\n",
    "print(roll)\n",
    "flips = roll > 0.3\n",
    "print(flips)"
   ]
  },
  {
   "cell_type": "code",
   "execution_count": 4,
   "metadata": {},
   "outputs": [
    {
     "name": "stdout",
     "output_type": "stream",
     "text": [
      "[-1. -1. -1. -1.]\n",
      "[False False False False]\n",
      "[ True  True  True  True]\n",
      "\n",
      "[ True False False  True]\n",
      "[False False False False]\n",
      "[ True False False  True]\n",
      "\n",
      "[False False False False]\n"
     ]
    }
   ],
   "source": [
    "print(W)\n",
    "print(W == 1)\n",
    "print(W == -1)\n",
    "print()\n",
    "print(flips)\n",
    "print(np.logical_and(flips, W == 1))\n",
    "print(np.logical_and(flips, W == -1))\n",
    "print()\n",
    "print(np.logical_and(np.logical_and(flips, W == 1), np.logical_not(flips, W == -1)))"
   ]
  },
  {
   "cell_type": "code",
   "execution_count": 5,
   "metadata": {},
   "outputs": [],
   "source": [
    "roll = np.random.rand()"
   ]
  },
  {
   "cell_type": "code",
   "execution_count": 54,
   "metadata": {
    "slideshow": {
     "slide_type": "slide"
    }
   },
   "outputs": [
    {
     "data": {
      "image/png": "[encoded data removed]",
      "text/plain": [
       "<Figure size 432x288 with 1 Axes>"
      ]
     },
     "metadata": {},
     "output_type": "display_data"
    },
    {
     "data": {
      "image/png": "[encoded data removed]",
      "text/plain": [
       "<Figure size 432x288 with 1 Axes>"
      ]
     },
     "metadata": {},
     "output_type": "display_data"
    },
    {
     "name": "stdout",
     "output_type": "stream",
     "text": [
      "\n",
      "iter: 500\n",
      "α = 0.015625\n",
      "f(x) = 0.004779318016904459\n",
      "\n",
      "\n",
      "\n",
      "iter: 1000\n",
      "α = 0.015625\n",
      "f(x) = 5.079800507016569e-05\n",
      "\n",
      "\n",
      "df:  0.000998152898406684\n"
     ]
    },
    {
     "data": {
      "image/png": "[encoded data removed]",
      "text/plain": [
       "<Figure size 432x288 with 1 Axes>"
      ]
     },
     "metadata": {},
     "output_type": "display_data"
    }
   ],
   "source": [
    "m, n = 10, 2\n",
    "\n",
    "x, Z, W = u.generate_test_set(m, n, m2.H, x_rand = True, misclass = False)\n",
    "A, b = u.from_x_to_matrix(x)\n",
    "fig = plt.figure()\n",
    "ax = fig.add_subplot(111)\n",
    "u.visualize(ax, A, b, Z, W, m2.H)\n",
    "plt.show()\n",
    "\n",
    "x0,zzz,www = u.generate_test_set(m, n, m2.H, x_rand = False, misclass = False)\n",
    "A, b = u.from_x_to_matrix(x0)\n",
    "fig = plt.figure()\n",
    "ax = fig.add_subplot(111)\n",
    "u.visualize(ax, A, b, Z, W, m2.H)\n",
    "plt.show()\n",
    "\n",
    "\n",
    "\n",
    "x, it, f = alg.steepest_descent(m2.f, m2.df, x0, Z, W, backtrack = True, output = True)\n",
    "A, b = u.from_x_to_matrix(x)\n",
    "\n",
    "fig = plt.figure()\n",
    "ax = fig.add_subplot(111)\n",
    "u.visualize(ax, A, b, Z, W, m2.H)\n",
    "plt.show()"
   ]
  },
  {
   "cell_type": "code",
   "execution_count": 42,
   "metadata": {},
   "outputs": [
    {
     "data": {
      "text/plain": [
       "4.250927821464264e-06"
      ]
     },
     "execution_count": 42,
     "metadata": {},
     "output_type": "execute_result"
    }
   ],
   "source": [
    "f"
   ]
  }
 ],
 "metadata": {
  "kernelspec": {
   "display_name": "Python 3",
   "language": "python",
   "name": "python3"
  },
  "language_info": {
   "codemirror_mode": {
    "name": "ipython",
    "version": 3
   },
   "file_extension": ".py",
   "mimetype": "text/x-python",
   "name": "python",
   "nbconvert_exporter": "python",
   "pygments_lexer": "ipython3",
   "version": "3.6.5"
  }
 },
 "nbformat": 4,
 "nbformat_minor": 2
}
