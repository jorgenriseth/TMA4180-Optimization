{
 "cells": [
  {
   "cell_type": "code",
   "execution_count": 60,
   "metadata": {
    "collapsed": true
   },
   "outputs": [],
   "source": [
    "import numpy as np\n",
    "import matplotlib.pyplot as plt"
   ]
  },
  {
   "cell_type": "code",
   "execution_count": 61,
   "metadata": {
    "collapsed": true
   },
   "outputs": [],
   "source": [
    "# take in vector of unknowns, and build A matrix and c-vector\n",
    "def from_x_to_matrix(x):\n",
    "    n = int((-3 + np.sqrt(9+8*x.size))//2)\n",
    "    k = x.size - n\n",
    "    A = np.zeros((n, n))\n",
    "    c = np.zeros(n)\n",
    "    \n",
    "    #Insert first k coefficients into matrix\n",
    "    end = 0\n",
    "    for j in range(n):\n",
    "        start = end\n",
    "        end = start + n-j\n",
    "        A[j, j:] = x[start:end]\n",
    "        A[j+1:,j] = A[j, j+1:]\n",
    "    c = x[-n:] #Insert last n coefficients into vector\n",
    "    return A, c"
   ]
  },
  {
   "cell_type": "code",
   "execution_count": 69,
   "metadata": {
    "collapsed": true
   },
   "outputs": [],
   "source": [
    "# Calculate g for single point z\n",
    "def gi(x, zi):\n",
    "    A, c = from_x_to_matrix(x)\n",
    "    return (zi-c).dot(A.dot(zi-c)) - 1\n",
    "\n",
    "# Calculate residual r for single point z\n",
    "def r(x, zi, wi):\n",
    "    return np.maximum(wi * gi(x, zi), 0)\n",
    "\n",
    "# Calculate residual vector\n",
    "def R(x, Z, W):\n",
    "    m, n = Z.shape\n",
    "    R = np.zeros(m)\n",
    "    for i in range(R.size):\n",
    "        R[i] = r(x, Z[i], W[i])\n",
    "    return R\n",
    "\n",
    "# Calculate objective function\n",
    "def f(x, Z, W):\n",
    "    m, n = Z.shape\n",
    "    return np.sum(R(x, Z, W)**2)\n",
    "\n",
    "# Calculate gradient of g for single point z\n",
    "def dgi(x, zi):\n",
    "    n = zi.size\n",
    "    dg = np.zeros(x.size)\n",
    "    end = 0\n",
    "    A, c = from_x_to_matrix(x)\n",
    "    v = zi - c\n",
    "    for j in range(n):\n",
    "        start = end\n",
    "        end = start + n - j\n",
    "        dg[start] = v[j]**2\n",
    "        dg[start+1:end] = 2 * v[j] * v[start+1:end]\n",
    "    dg[-n:] = -2 * A.dot(v)\n",
    "    return dg\n",
    "\n",
    "# Calculate gradient of residual r for single point z\n",
    "# h is the gi-value for the given point\n",
    "def dri(x, zi, wi, g = None):\n",
    "    n = zi.size\n",
    "    dr = np.zeros(x.size)\n",
    "    if g == None:\n",
    "        g = gi(x, zi)\n",
    "    return (g > 0) * dgi(x, zi) * wi\n",
    "\n",
    "# Calculate jacobian of residual vector R\n",
    "def jacobi(x, Z, W, g = None):\n",
    "    m, n = Z.shape\n",
    "    J = np.zeros((m, x.size))\n",
    "    for i in range(m):\n",
    "        J[i] = dri(x, Z[i], W[i], g)\n",
    "    return J\n",
    "\n",
    "# Calculate gradient of objective function\n",
    "def df(x, Z, W, g = None):\n",
    "    return 2 * (jacobi(x, Z, W, g).T).dot(R(x, Z, W))"
   ]
  },
  {
   "cell_type": "code",
   "execution_count": 70,
   "metadata": {},
   "outputs": [
    {
     "name": "stdout",
     "output_type": "stream",
     "text": [
      "Z: \n",
      " [[2 0]\n",
      " [2 1]\n",
      " [2 2]\n",
      " [2 3]\n",
      " [2 4]]\n",
      "W: \n",
      " [1 1 1 1 1]\n"
     ]
    }
   ],
   "source": [
    "x = np.array((1, 0, 0.25, 2, 0))\n",
    "# Z = np.array((0, 0, 0, 1, 0, 2, 0, 3, 0, 4)).reshape(5, 2)\n",
    "# Z = np.array((0,0, 1, 0, 2, 0, 3, 0, 4, 0)).reshape(5, 2)\n",
    "# Z = np.array((0, 0, 1, 1, 2, 2, 3, 3, 4, 4)).reshape(5,2)\n",
    "Z = np.array((2, 0, 2, 1, 2, 2, 2, 3, 2, 4)).reshape(5, 2)\n",
    "W = np.array((1, 1, 1, 1, 1)) \n",
    "print('Z: \\n', Z)\n",
    "print('W: \\n', W)"
   ]
  },
  {
   "cell_type": "code",
   "execution_count": 71,
   "metadata": {},
   "outputs": [
    {
     "data": {
      "text/plain": [
       "0.0"
      ]
     },
     "execution_count": 71,
     "metadata": {},
     "output_type": "execute_result"
    }
   ],
   "source": [
    "gi(x, Z[2])"
   ]
  },
  {
   "cell_type": "code",
   "execution_count": 72,
   "metadata": {},
   "outputs": [
    {
     "data": {
      "text/plain": [
       "0.0"
      ]
     },
     "execution_count": 72,
     "metadata": {},
     "output_type": "execute_result"
    }
   ],
   "source": [
    "r(x, Z[2], W[2])"
   ]
  },
  {
   "cell_type": "code",
   "execution_count": 73,
   "metadata": {},
   "outputs": [
    {
     "data": {
      "text/plain": [
       "array([ 0.  ,  0.  ,  0.  ,  1.25,  3.  ])"
      ]
     },
     "execution_count": 73,
     "metadata": {},
     "output_type": "execute_result"
    }
   ],
   "source": [
    "R(x, Z, W)"
   ]
  },
  {
   "cell_type": "code",
   "execution_count": 74,
   "metadata": {},
   "outputs": [
    {
     "data": {
      "text/plain": [
       "10.5625"
      ]
     },
     "execution_count": 74,
     "metadata": {},
     "output_type": "execute_result"
    }
   ],
   "source": [
    "f(x, Z, W)"
   ]
  },
  {
   "cell_type": "code",
   "execution_count": 75,
   "metadata": {},
   "outputs": [
    {
     "data": {
      "text/plain": [
       "array([   0.  ,    0.  ,  118.5 ,    0.  ,  -15.75])"
      ]
     },
     "execution_count": 75,
     "metadata": {},
     "output_type": "execute_result"
    }
   ],
   "source": [
    "df(x, Z, W)"
   ]
  },
  {
   "cell_type": "code",
   "execution_count": 148,
   "metadata": {},
   "outputs": [
    {
     "name": "stdout",
     "output_type": "stream",
     "text": [
      "g = -1.730711e+02\n",
      "ep = 1.000000e+02, error = 9.914474e-01, g_app = -1.480211e+00\n",
      "ep = 1.000000e+01, error = 9.144739e-01, g_app = -1.480211e+01\n",
      "ep = 1.000000e+00, error = 3.830155e-01, g_app = -1.067822e+02\n",
      "ep = 1.000000e-01, error = 5.242077e-02, g_app = -1.639986e+02\n",
      "ep = 1.000000e-02, error = 5.426424e-03, g_app = -1.721320e+02\n",
      "ep = 1.000000e-03, error = 5.445045e-04, g_app = -1.729769e+02\n",
      "ep = 1.000000e-04, error = 5.446913e-05, g_app = -1.730617e+02\n",
      "ep = 1.000000e-05, error = 5.447093e-06, g_app = -1.730702e+02\n",
      "ep = 1.000000e-06, error = 5.447048e-07, g_app = -1.730711e+02\n",
      "ep = 1.000000e-07, error = 5.385178e-08, g_app = -1.730711e+02\n",
      "ep = 1.000000e-08, error = 1.347834e-08, g_app = -1.730712e+02\n"
     ]
    }
   ],
   "source": [
    "m, n = Z.shape\n",
    "k = n*(n+1)//2\n",
    "\n",
    "x = np.random.randn(n+k)\n",
    "p = np.random.randn(n+k)\n",
    "p = p/np.linalg.norm(p)\n",
    "f0 = f(x, Z, W)\n",
    "g = df(x, Z, W).dot(p)\n",
    "if g == 0:\n",
    "    print(\"p: \\n\", p)\n",
    "    print(df(x, Z, W))\n",
    "else:\n",
    "    print(\"g = %e\" %g)\n",
    "    for ep in 10.0**np.arange(2, -9, -1):\n",
    "        g_app = (f(x+ep*p, Z, W)-f0)/ep\n",
    "        error = abs(g_app-g)/abs(g)\n",
    "        print('ep = %e, error = %e, g_app = %e' % (ep,error, g_app))"
   ]
  }
 ],
 "metadata": {
  "kernelspec": {
   "display_name": "Python 3",
   "language": "python",
   "name": "python3"
  },
  "language_info": {
   "codemirror_mode": {
    "name": "ipython",
    "version": 3
   },
   "file_extension": ".py",
   "mimetype": "text/x-python",
   "name": "python",
   "nbconvert_exporter": "python",
   "pygments_lexer": "ipython3",
   "version": "3.6.3"
  }
 },
 "nbformat": 4,
 "nbformat_minor": 2
}
