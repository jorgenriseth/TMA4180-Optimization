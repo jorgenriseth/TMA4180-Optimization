{
 "cells": [
  {
   "cell_type": "code",
   "execution_count": 1,
   "metadata": {
    "collapsed": true
   },
   "outputs": [],
   "source": [
    "import numpy as np\n",
    "import matplotlib.pyplot as plt"
   ]
  },
  {
   "cell_type": "code",
   "execution_count": 2,
   "metadata": {
    "collapsed": true
   },
   "outputs": [],
   "source": [
    "def r(A, c, zi, wi):\n",
    "    v = z - c\n",
    "    x = v.T @ A @ v\n",
    "    return (wi == 1) * np.maximum(x - 1, 0) + (wi == -1) * np.maximum(1 - x, 0)\n",
    "\n",
    "def R(A, c, z, w):\n",
    "    R = np.zeros_like(w)\n",
    "    for i in range(R.size):\n",
    "        R[i] = r_i(A, c, z[i], w[i])\n",
    "    return R\n",
    "\n",
    "def f(R):\n",
    "    return np.sum(R**2)"
   ]
  },
  {
   "cell_type": "code",
   "execution_count": 65,
   "metadata": {
    "collapsed": true
   },
   "outputs": [],
   "source": [
    "def update_A(A, x):\n",
    "    n = A.shape[0]\n",
    "    a = x[:n*(n+1)//2]\n",
    "    for j in range(n):\n",
    "        start = j*n - j*(j+1)//n\n",
    "        end = start + n-j\n",
    "        A[j, j:] = x[start:end]\n",
    "    return A\n",
    "        \n",
    "def update_c(c, x):\n",
    "    c = x[-n:]\n",
    "    return c\n",
    "\n",
    "def extract_a(A):\n",
    "    n = A.shape[0]\n",
    "    k = n*(n+1)//2\n",
    "    a = np.zeros(k)\n",
    "    end = 0\n",
    "    \n",
    "    for j in range(n):\n",
    "        start = end\n",
    "        end = start + n-j\n",
    "        a[start:end] = A[j, j:]\n",
    "        \n",
    "    return a"
   ]
  },
  {
   "cell_type": "code",
   "execution_count": 131,
   "metadata": {},
   "outputs": [],
   "source": [
    "def r_delA(A, c, zi):\n",
    "    v = zi - c\n",
    "    rdA = 2 * (v * (v * np.ones_like(A)).T)\n",
    "    rdA = rdA - 1/2 * np.identity(c.size) * rdA\n",
    "    n = c.size\n",
    "    k = n*(n+1)//2\n",
    "    return extract_a(rdA)\n",
    "\n",
    "def r_delc(A, c, zi):\n",
    "    v = zi - c\n",
    "    n = c.size\n",
    "    return - 2 * (v.T @ A)\n",
    "\n",
    "def del_r(A, c, zi):\n",
    "    v = zi - c\n",
    "    n = np.size(c)\n",
    "    k = n*(n+1)//2\n",
    "    dr = np.zeros(k+n)\n",
    "    dr[:k] = r_delA(A, c, zi)\n",
    "    dr[k:] = r_delc(A, c, zi)\n",
    "    return dr\n",
    "\n",
    "#Jacobian\n",
    "def del_R(A, c, z):\n",
    "    m = z.shape[0]\n",
    "    n = c.size\n",
    "    k = n*(n+1)//2\n",
    "    R = np.zeros((m, n+k))\n",
    "    for i in range(m):\n",
    "        print(R)\n",
    "        dri = del_r(A, c, z[i])\n",
    "        print(dri)\n",
    "        R[i] = del_r(A, c, z[i])\n",
    "    return R"
   ]
  },
  {
   "cell_type": "code",
   "execution_count": 132,
   "metadata": {},
   "outputs": [
    {
     "data": {
      "text/plain": [
       "array([[ 1, -1, -3],\n",
       "       [ 3,  0,  0]])"
      ]
     },
     "execution_count": 132,
     "metadata": {},
     "output_type": "execute_result"
    }
   ],
   "source": [
    "A = np.array((1, 2, 3, 2, 4, 5, 3, 5, 6)).reshape(3, 3)\n",
    "z = np.array((2, 3, 2, 4, 4, 5)).reshape(2,3)\n",
    "c = np.array((1, 4, 5))\n",
    "v = z - c\n",
    "\n",
    "v"
   ]
  },
  {
   "cell_type": "code",
   "execution_count": 133,
   "metadata": {},
   "outputs": [
    {
     "name": "stdout",
     "output_type": "stream",
     "text": [
      "[[ 0.  0.  0.  0.  0.  0.  0.  0.  0.]\n",
      " [ 0.  0.  0.  0.  0.  0.  0.  0.  0.]]\n",
      "[  1.  -2.  -6.   1.   6.   9.  20.  34.  40.]\n",
      "[[  1.  -2.  -6.   1.   6.   9.  20.  34.  40.]\n",
      " [  0.   0.   0.   0.   0.   0.   0.   0.   0.]]\n",
      "[  9.   0.   0.   0.   0.   0.  -6. -12. -18.]\n"
     ]
    },
    {
     "data": {
      "text/plain": [
       "array([[  1.,  -2.,  -6.,   1.,   6.,   9.,  20.,  34.,  40.],\n",
       "       [  9.,   0.,   0.,   0.,   0.,   0.,  -6., -12., -18.]])"
      ]
     },
     "execution_count": 133,
     "metadata": {},
     "output_type": "execute_result"
    }
   ],
   "source": [
    "del_R(A, c, z)"
   ]
  }
 ],
 "metadata": {
  "kernelspec": {
   "display_name": "Python 3",
   "language": "python",
   "name": "python3"
  },
  "language_info": {
   "codemirror_mode": {
    "name": "ipython",
    "version": 3
   },
   "file_extension": ".py",
   "mimetype": "text/x-python",
   "name": "python",
   "nbconvert_exporter": "python",
   "pygments_lexer": "ipython3",
   "version": "3.6.3"
  }
 },
 "nbformat": 4,
 "nbformat_minor": 2
}
